{
  "nbformat": 4,
  "nbformat_minor": 0,
  "metadata": {
    "colab": {
      "name": "COMP6577-2a.ipynb",
      "provenance": [],
      "collapsed_sections": []
    },
    "kernelspec": {
      "name": "python3",
      "display_name": "Python 3"
    }
  },
  "cells": [
    {
      "cell_type": "markdown",
      "metadata": {
        "id": "atHGfEqY5tVP"
      },
      "source": [
        "<a href=\"https://github.com/andrychowanda/COMP6577/blob/master/COMP6577-2a.ipynb\">\n",
        "  <img src=\"https://colab.research.google.com/assets/colab-badge.svg\" alt=\"Open In Colab\"/>\n",
        "</a>"
      ]
    },
    {
      "cell_type": "markdown",
      "metadata": {
        "id": "e7JmC1KUafBd"
      },
      "source": [
        "Import required libs"
      ]
    },
    {
      "cell_type": "code",
      "metadata": {
        "id": "QxAHA0Sh5jgr"
      },
      "source": [
        "import matplotlib.pyplot as plt\n",
        "import seaborn as sb\n",
        "import pandas as pd\n",
        "from scipy import stats\n",
        "import numpy as np"
      ],
      "execution_count": 1,
      "outputs": []
    },
    {
      "cell_type": "markdown",
      "metadata": {
        "id": "rTL8rSbcamWu"
      },
      "source": [
        "Download the data"
      ]
    },
    {
      "cell_type": "code",
      "metadata": {
        "id": "mBGsvGl_6ItO"
      },
      "source": [
        "!wget https://gist.githubusercontent.com/netj/8836201/raw/6f9306ad21398ea43cba4f7d537619d0e07d5ae3/iris.csv\n",
        "!wget https://raw.githubusercontent.com/andrychowanda/COMP6577/master/FuelConsumptionCo2.csv"
      ],
      "execution_count": null,
      "outputs": []
    },
    {
      "cell_type": "markdown",
      "metadata": {
        "id": "892A6jNyap4Y"
      },
      "source": [
        "Prepare the data"
      ]
    },
    {
      "cell_type": "code",
      "metadata": {
        "id": "lTL_q5qs6JWV"
      },
      "source": [
        "irisData = pd.read_csv(\"iris.csv\")\n",
        "fuelData = pd.read_csv(\"FuelConsumptionCo2.csv\")\n",
        "print(\"Iris Data :\")\n",
        "print(irisData.dtypes)\n",
        "print(\"\\nFuel Data :\")\n",
        "print(fuelData.dtypes)"
      ],
      "execution_count": null,
      "outputs": []
    },
    {
      "cell_type": "markdown",
      "metadata": {
        "id": "iJ_bg-GfasxO"
      },
      "source": [
        "Plot the data"
      ]
    },
    {
      "cell_type": "code",
      "metadata": {
        "id": "aXl-Dq4-BIrv"
      },
      "source": [
        "X_Iris = irisData[[\"sepal.length\", \"sepal.width\", \"petal.length\", \"petal.width\"]]\n",
        "Y_Iris = irisData[\"variety\"]\n",
        "X_Fuel = fuelData[[\"ENGINESIZE\", \"CYLINDERS\", \"FUELCONSUMPTION_CITY\", \"FUELCONSUMPTION_HWY\", \"FUELCONSUMPTION_COMB\", \"FUELCONSUMPTION_COMB_MPG\"]]\n",
        "Y_Fuel = fuelData[\"CO2EMISSIONS\"]"
      ],
      "execution_count": 23,
      "outputs": []
    },
    {
      "cell_type": "code",
      "metadata": {
        "id": "9qmdHD00B7xO"
      },
      "source": [
        "sb.distplot(X_Iris[\"sepal.width\"])\n",
        "plt.show()"
      ],
      "execution_count": null,
      "outputs": []
    },
    {
      "cell_type": "code",
      "metadata": {
        "id": "TD1lpYYcDPZ1"
      },
      "source": [
        "sb.distplot(X_Fuel[\"CYLINDERS\"])\n",
        "plt.show()"
      ],
      "execution_count": null,
      "outputs": []
    },
    {
      "cell_type": "code",
      "metadata": {
        "id": "kYSBx_SV6xDy"
      },
      "source": [
        "sb.pairplot(irisData, hue=\"variety\")\n",
        "plt.show()"
      ],
      "execution_count": null,
      "outputs": []
    },
    {
      "cell_type": "code",
      "metadata": {
        "id": "pzVz7M4vRv9v"
      },
      "source": [
        "sb.pairplot(X_Fuel)\n",
        "plt.show()"
      ],
      "execution_count": null,
      "outputs": []
    },
    {
      "cell_type": "markdown",
      "metadata": {
        "id": "URGwmlMIaw2o"
      },
      "source": [
        "Calculating the covariance matrix"
      ]
    },
    {
      "cell_type": "code",
      "metadata": {
        "id": "Xf_cdh8PR6-Z"
      },
      "source": [
        "covMatrix = fuelData[[\"ENGINESIZE\", \"CYLINDERS\", \"FUELCONSUMPTION_CITY\", \"FUELCONSUMPTION_HWY\", \"FUELCONSUMPTION_COMB\", \"FUELCONSUMPTION_COMB_MPG\", \"CO2EMISSIONS\"]].cov()\n",
        "print(covMatrix)\n",
        "sb.heatmap(covMatrix,  annot = True, fmt='.1f', cmap = \"Blues\")\n",
        "plt.show()"
      ],
      "execution_count": null,
      "outputs": []
    },
    {
      "cell_type": "markdown",
      "metadata": {
        "id": "NRAoGuJta1H5"
      },
      "source": [
        "Calculating the correlation matrix"
      ]
    },
    {
      "cell_type": "code",
      "metadata": {
        "id": "LyEDwcgYUOQv"
      },
      "source": [
        "corMatrix = fuelData[[\"ENGINESIZE\", \"CYLINDERS\", \"FUELCONSUMPTION_CITY\", \"FUELCONSUMPTION_HWY\", \"FUELCONSUMPTION_COMB\", \"FUELCONSUMPTION_COMB_MPG\", \"CO2EMISSIONS\"]].corr()\n",
        "print(corMatrix)\n",
        "sb.heatmap(corMatrix,  annot = True, fmt='.2f', cmap = \"Blues\")\n",
        "plt.show()"
      ],
      "execution_count": null,
      "outputs": []
    },
    {
      "cell_type": "markdown",
      "metadata": {
        "id": "2zj6UVFpa3n6"
      },
      "source": [
        "Additional material - encoding using pandas df's function"
      ]
    },
    {
      "cell_type": "code",
      "metadata": {
        "id": "KKLvRi77X71A"
      },
      "source": [
        "from sklearn import preprocessing\n",
        "\n",
        "data = fuelData[[\"FUELTYPE\", \"ENGINESIZE\", \"CYLINDERS\", \"FUELCONSUMPTION_CITY\", \"FUELCONSUMPTION_HWY\", \"FUELCONSUMPTION_COMB\", \"FUELCONSUMPTION_COMB_MPG\", \"CO2EMISSIONS\"]]\n",
        "print(data[\"FUELTYPE\"].unique())\n",
        "\n",
        "data[\"FUELTYPE\"] = data[\"FUELTYPE\"].astype('category')\n",
        "data[\"FUELTYPE\"] = data[\"FUELTYPE\"].cat.codes\n",
        "\n",
        "print(data[\"FUELTYPE\"].unique())\n",
        "\n",
        "corMatrix = data.corr()\n",
        "print(corMatrix)\n",
        "sb.heatmap(corMatrix,  annot = True, fmt='.2f', cmap = \"Blues\")\n",
        "plt.show()"
      ],
      "execution_count": null,
      "outputs": []
    }
  ]
}