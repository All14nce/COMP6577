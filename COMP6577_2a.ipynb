{
 "cells": [
  {
   "cell_type": "markdown",
   "metadata": {
    "id": "atHGfEqY5tVP"
   },
   "source": [
    "[![Open In Colab](https://colab.research.google.com/assets/colab-badge.svg)](https://colab.research.google.com/github/andrychowanda/COMP6577/blob/master/COMP6577_2a.ipynb)"
   ]
  },
  {
   "cell_type": "markdown",
   "metadata": {
    "id": "e7JmC1KUafBd"
   },
   "source": [
    "Import required libs"
   ]
  },
  {
   "cell_type": "code",
   "execution_count": 1,
   "metadata": {
    "id": "QxAHA0Sh5jgr"
   },
   "outputs": [],
   "source": [
    "import matplotlib.pyplot as plt\n",
    "import seaborn as sb\n",
    "import pandas as pd\n",
    "from scipy import stats\n",
    "import numpy as np"
   ]
  },
  {
   "cell_type": "markdown",
   "metadata": {
    "id": "rTL8rSbcamWu"
   },
   "source": [
    "Download the data"
   ]
  },
  {
   "cell_type": "code",
   "execution_count": null,
   "metadata": {
    "id": "mBGsvGl_6ItO"
   },
   "outputs": [],
   "source": [
    "!wget https://gist.githubusercontent.com/netj/8836201/raw/6f9306ad21398ea43cba4f7d537619d0e07d5ae3/iris.csv\n",
    "!wget https://raw.githubusercontent.com/andrychowanda/COMP6577/master/FuelConsumptionCo2.csv"
   ]
  },
  {
   "cell_type": "markdown",
   "metadata": {
    "id": "892A6jNyap4Y"
   },
   "source": [
    "Prepare the data"
   ]
  },
  {
   "cell_type": "code",
   "execution_count": null,
   "metadata": {
    "id": "lTL_q5qs6JWV"
   },
   "outputs": [],
   "source": [
    "irisData = pd.read_csv(\"iris.csv\")\n",
    "fuelData = pd.read_csv(\"FuelConsumptionCo2.csv\")\n",
    "print(\"Iris Data :\")\n",
    "print(irisData.dtypes)\n",
    "print(\"\\nFuel Data :\")\n",
    "print(fuelData.dtypes)"
   ]
  },
  {
   "cell_type": "markdown",
   "metadata": {
    "id": "iJ_bg-GfasxO"
   },
   "source": [
    "Plot the data"
   ]
  },
  {
   "cell_type": "code",
   "execution_count": 23,
   "metadata": {
    "id": "aXl-Dq4-BIrv"
   },
   "outputs": [],
   "source": [
    "X_Iris = irisData[[\"sepal.length\", \"sepal.width\", \"petal.length\", \"petal.width\"]]\n",
    "Y_Iris = irisData[\"variety\"]\n",
    "X_Fuel = fuelData[[\"ENGINESIZE\", \"CYLINDERS\", \"FUELCONSUMPTION_CITY\", \"FUELCONSUMPTION_HWY\", \"FUELCONSUMPTION_COMB\", \"FUELCONSUMPTION_COMB_MPG\"]]\n",
    "Y_Fuel = fuelData[\"CO2EMISSIONS\"]"
   ]
  },
  {
   "cell_type": "code",
   "execution_count": null,
   "metadata": {
    "id": "9qmdHD00B7xO"
   },
   "outputs": [],
   "source": [
    "sb.distplot(X_Iris[\"sepal.width\"])\n",
    "plt.show()"
   ]
  },
  {
   "cell_type": "code",
   "execution_count": null,
   "metadata": {
    "id": "TD1lpYYcDPZ1"
   },
   "outputs": [],
   "source": [
    "sb.distplot(X_Fuel[\"CYLINDERS\"])\n",
    "plt.show()"
   ]
  },
  {
   "cell_type": "code",
   "execution_count": null,
   "metadata": {
    "id": "kYSBx_SV6xDy"
   },
   "outputs": [],
   "source": [
    "sb.pairplot(irisData, hue=\"variety\")\n",
    "plt.show()"
   ]
  },
  {
   "cell_type": "code",
   "execution_count": null,
   "metadata": {
    "id": "pzVz7M4vRv9v"
   },
   "outputs": [],
   "source": [
    "sb.pairplot(X_Fuel)\n",
    "plt.show()"
   ]
  },
  {
   "cell_type": "markdown",
   "metadata": {
    "id": "URGwmlMIaw2o"
   },
   "source": [
    "Calculating the covariance matrix"
   ]
  },
  {
   "cell_type": "code",
   "execution_count": null,
   "metadata": {
    "id": "Xf_cdh8PR6-Z"
   },
   "outputs": [],
   "source": [
    "covMatrix = fuelData[[\"ENGINESIZE\", \"CYLINDERS\", \"FUELCONSUMPTION_CITY\", \"FUELCONSUMPTION_HWY\", \"FUELCONSUMPTION_COMB\", \"FUELCONSUMPTION_COMB_MPG\", \"CO2EMISSIONS\"]].cov()\n",
    "print(covMatrix)\n",
    "sb.heatmap(covMatrix,  annot = True, fmt='.1f', cmap = \"Blues\")\n",
    "plt.show()"
   ]
  },
  {
   "cell_type": "markdown",
   "metadata": {
    "id": "NRAoGuJta1H5"
   },
   "source": [
    "Calculating the correlation matrix"
   ]
  },
  {
   "cell_type": "code",
   "execution_count": null,
   "metadata": {
    "id": "LyEDwcgYUOQv"
   },
   "outputs": [],
   "source": [
    "corMatrix = fuelData[[\"ENGINESIZE\", \"CYLINDERS\", \"FUELCONSUMPTION_CITY\", \"FUELCONSUMPTION_HWY\", \"FUELCONSUMPTION_COMB\", \"FUELCONSUMPTION_COMB_MPG\", \"CO2EMISSIONS\"]].corr()\n",
    "print(corMatrix)\n",
    "sb.heatmap(corMatrix,  annot = True, fmt='.2f', cmap = \"Blues\")\n",
    "plt.show()"
   ]
  },
  {
   "cell_type": "markdown",
   "metadata": {
    "id": "2zj6UVFpa3n6"
   },
   "source": [
    "Additional material - encoding using pandas df's function"
   ]
  },
  {
   "cell_type": "code",
   "execution_count": null,
   "metadata": {
    "id": "KKLvRi77X71A"
   },
   "outputs": [],
   "source": [
    "from sklearn import preprocessing\n",
    "\n",
    "data = fuelData[[\"FUELTYPE\", \"ENGINESIZE\", \"CYLINDERS\", \"FUELCONSUMPTION_CITY\", \"FUELCONSUMPTION_HWY\", \"FUELCONSUMPTION_COMB\", \"FUELCONSUMPTION_COMB_MPG\", \"CO2EMISSIONS\"]]\n",
    "print(data[\"FUELTYPE\"].unique())\n",
    "\n",
    "data[\"FUELTYPE\"] = data[\"FUELTYPE\"].astype('category')\n",
    "data[\"FUELTYPE\"] = data[\"FUELTYPE\"].cat.codes\n",
    "\n",
    "print(data[\"FUELTYPE\"].unique())\n",
    "\n",
    "corMatrix = data.corr()\n",
    "print(corMatrix)\n",
    "sb.heatmap(corMatrix,  annot = True, fmt='.2f', cmap = \"Blues\")\n",
    "plt.show()"
   ]
  }
 ],
 "metadata": {
  "colab": {
   "collapsed_sections": [],
   "name": "COMP6577-2a.ipynb",
   "provenance": []
  },
  "kernelspec": {
   "display_name": "Python 3",
   "language": "python",
   "name": "python3"
  },
  "language_info": {
   "codemirror_mode": {
    "name": "ipython",
    "version": 3
   },
   "file_extension": ".py",
   "mimetype": "text/x-python",
   "name": "python",
   "nbconvert_exporter": "python",
   "pygments_lexer": "ipython3",
   "version": "3.8.5"
  }
 },
 "nbformat": 4,
 "nbformat_minor": 1
}
