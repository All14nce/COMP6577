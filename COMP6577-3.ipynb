{
 "cells": [
  {
   "cell_type": "markdown",
   "metadata": {
    "colab_type": "text",
    "id": "fgjQzo6KNAAB"
   },
   "source": [
    "# Linear Regression"
   ]
  },
  {
   "cell_type": "markdown",
   "metadata": {
    "colab_type": "text",
    "id": "zDpMl5FQNyNQ"
   },
   "source": [
    "Import required packages"
   ]
  },
  {
   "cell_type": "code",
   "execution_count": 192,
   "metadata": {
    "colab": {},
    "colab_type": "code",
    "id": "1aohIdmfKieM"
   },
   "outputs": [],
   "source": [
    "import matplotlib.pyplot as plt\n",
    "import pandas as pd\n",
    "from sklearn import linear_model\n",
    "from sklearn.model_selection import train_test_split\n",
    "import numpy as np\n",
    "import seaborn as sb\n",
    "from sklearn.metrics import r2_score, mean_squared_error, mean_absolute_error\n"
   ]
  },
  {
   "cell_type": "markdown",
   "metadata": {},
   "source": [
    "Load and Profile the Data"
   ]
  },
  {
   "cell_type": "code",
   "execution_count": 193,
   "metadata": {},
   "outputs": [
    {
     "name": "stdout",
     "output_type": "stream",
     "text": [
      "MODELYEAR                     int64\n",
      "MAKE                         object\n",
      "MODEL                        object\n",
      "VEHICLECLASS                 object\n",
      "ENGINESIZE                  float64\n",
      "CYLINDERS                     int64\n",
      "TRANSMISSION                 object\n",
      "FUELTYPE                     object\n",
      "FUELCONSUMPTION_CITY        float64\n",
      "FUELCONSUMPTION_HWY         float64\n",
      "FUELCONSUMPTION_COMB        float64\n",
      "FUELCONSUMPTION_COMB_MPG      int64\n",
      "CO2EMISSIONS                  int64\n",
      "dtype: object\n",
      "False\n"
     ]
    }
   ],
   "source": [
    "fuelData = pd.read_csv(\"FuelConsumptionCo2.csv\")\n",
    "print(fuelData.dtypes)\n",
    "print(fuelData.isna().values.any())"
   ]
  },
  {
   "cell_type": "markdown",
   "metadata": {},
   "source": [
    "Create new Data Frame with selected Features"
   ]
  },
  {
   "cell_type": "code",
   "execution_count": 194,
   "metadata": {},
   "outputs": [
    {
     "name": "stdout",
     "output_type": "stream",
     "text": [
      "   CYLINDERS  ENGINESIZE  CO2EMISSIONS  FUELCONSUMPTION_COMB  \\\n",
      "0          4         2.0           196                   8.5   \n",
      "1          4         2.4           221                   9.6   \n",
      "2          4         1.5           136                   5.9   \n",
      "3          6         3.5           255                  11.1   \n",
      "4          6         3.5           244                  10.6   \n",
      "\n",
      "   FUELCONSUMPTION_CITY  FUELCONSUMPTION_HWY  FUELCONSUMPTION_COMB_MPG  \n",
      "0                   9.9                  6.7                        33  \n",
      "1                  11.2                  7.7                        29  \n",
      "2                   6.0                  5.8                        48  \n",
      "3                  12.7                  9.1                        25  \n",
      "4                  12.1                  8.7                        27  \n"
     ]
    }
   ],
   "source": [
    "newFuelData = fuelData[[\"CYLINDERS\", \"ENGINESIZE\", \"CO2EMISSIONS\", \"FUELCONSUMPTION_COMB\", \"FUELCONSUMPTION_CITY\", \"FUELCONSUMPTION_HWY\", \"FUELCONSUMPTION_COMB_MPG\"]]\n",
    "print(newFuelData.head())"
   ]
  },
  {
   "cell_type": "markdown",
   "metadata": {},
   "source": [
    "Train the data using linear regression"
   ]
  },
  {
   "cell_type": "code",
   "execution_count": 195,
   "metadata": {
    "colab": {
     "base_uri": "https://localhost:8080/",
     "height": 51
    },
    "colab_type": "code",
    "id": "AT827PsZY8_Z",
    "outputId": "68a37722-a172-4f8a-f488-e89c0f793e4c"
   },
   "outputs": [
    {
     "name": "stdout",
     "output_type": "stream",
     "text": [
      "Coefficients:  [[39.203]]\n",
      "Intercept:  [124.569]\n"
     ]
    }
   ],
   "source": [
    "train, test = train_test_split(newFuelData, test_size=0.2)\n",
    "regression = linear_model.LinearRegression()\n",
    "regression.fit(train[[\"ENGINESIZE\"]], train[[\"CO2EMISSIONS\"]])\n",
    "print('Coefficients: ', regression.coef_)\n",
    "print('Intercept: ',regression.intercept_)"
   ]
  },
  {
   "cell_type": "markdown",
   "metadata": {},
   "source": [
    "Evaluate the model"
   ]
  },
  {
   "cell_type": "code",
   "execution_count": 196,
   "metadata": {
    "colab": {
     "base_uri": "https://localhost:8080/",
     "height": 1000
    },
    "colab_type": "code",
    "id": "7tYAxyUBZ7Kj",
    "outputId": "baf6f936-75e1-414e-bea8-63fbe58e41e7"
   },
   "outputs": [
    {
     "name": "stdout",
     "output_type": "stream",
     "text": [
      "[3.6] [265.7]\n",
      "[2.4] [218.657]\n",
      "[3.8] [273.541]\n",
      "[2.4] [218.657]\n",
      "[3.2] [250.019]\n",
      "[3.5] [261.78]\n",
      "[2.] [202.975]\n",
      "[5.3] [332.346]\n",
      "[1.4] [179.453]\n",
      "[3.2] [250.019]\n",
      "[2.] [202.975]\n",
      "[3.] [242.179]\n",
      "[5.3] [332.346]\n",
      "[3.6] [265.7]\n",
      "[3.7] [269.621]\n",
      "[4.6] [304.904]\n",
      "[1.6] [187.294]\n",
      "[2.5] [222.577]\n",
      "[6.2] [367.629]\n",
      "[2.] [202.975]\n",
      "[2.4] [218.657]\n",
      "[4.7] [308.824]\n",
      "[5.3] [332.346]\n",
      "[2.] [202.975]\n",
      "[4.7] [308.824]\n",
      "[3.6] [265.7]\n",
      "[3.2] [250.019]\n",
      "[4.4] [297.063]\n",
      "[2.] [202.975]\n",
      "[3.] [242.179]\n",
      "[2.] [202.975]\n",
      "[5.3] [332.346]\n",
      "[3.4] [257.86]\n",
      "[2.5] [222.577]\n",
      "[3.5] [261.78]\n",
      "[8.4] [453.876]\n",
      "[3.] [242.179]\n",
      "[5.7] [348.027]\n",
      "[2.5] [222.577]\n",
      "[3.6] [265.7]\n",
      "[1.8] [195.135]\n",
      "[2.] [202.975]\n",
      "[2.] [202.975]\n",
      "[3.6] [265.7]\n",
      "[3.7] [269.621]\n",
      "[4.] [281.382]\n",
      "[3.6] [265.7]\n",
      "[2.5] [222.577]\n",
      "[3.] [242.179]\n",
      "[1.6] [187.294]\n",
      "[1.8] [195.135]\n",
      "[3.2] [250.019]\n",
      "[2.5] [222.577]\n",
      "[6.2] [367.629]\n",
      "[6.2] [367.629]\n",
      "[3.7] [269.621]\n",
      "[1.4] [179.453]\n",
      "[5.] [320.585]\n",
      "[1.6] [187.294]\n",
      "[3.] [242.179]\n",
      "[4.8] [312.744]\n",
      "[3.6] [265.7]\n",
      "[6.4] [375.469]\n",
      "[6.2] [367.629]\n",
      "[1.6] [187.294]\n",
      "[1.4] [179.453]\n",
      "[2.] [202.975]\n",
      "[1.8] [195.135]\n",
      "[6.2] [367.629]\n",
      "[5.3] [332.346]\n",
      "[5.4] [336.266]\n",
      "[3.] [242.179]\n",
      "[2.4] [218.657]\n",
      "[1.8] [195.135]\n",
      "[2.] [202.975]\n",
      "[3.] [242.179]\n",
      "[6.5] [379.39]\n",
      "[1.6] [187.294]\n",
      "[2.] [202.975]\n",
      "[1.2] [171.613]\n",
      "[1.4] [179.453]\n",
      "[4.4] [297.063]\n",
      "[3.5] [261.78]\n",
      "[5.3] [332.346]\n",
      "[3.8] [273.541]\n",
      "[3.4] [257.86]\n",
      "[2.7] [230.418]\n",
      "[2.] [202.975]\n",
      "[5.7] [348.027]\n",
      "[3.5] [261.78]\n",
      "[1.6] [187.294]\n",
      "[4.2] [289.222]\n",
      "[2.] [202.975]\n",
      "[6.8] [391.151]\n",
      "[4.4] [297.063]\n",
      "[2.1] [206.896]\n",
      "[1.4] [179.453]\n",
      "[2.] [202.975]\n",
      "[6.2] [367.629]\n",
      "[3.5] [261.78]\n",
      "[5.5] [340.186]\n",
      "[2.5] [222.577]\n",
      "[3.7] [269.621]\n",
      "[3.] [242.179]\n",
      "[3.6] [265.7]\n",
      "[2.5] [222.577]\n",
      "[6.2] [367.629]\n",
      "[4.2] [289.222]\n",
      "[2.] [202.975]\n",
      "[3.5] [261.78]\n",
      "[6.2] [367.629]\n",
      "[4.4] [297.063]\n",
      "[5.2] [328.425]\n",
      "[3.6] [265.7]\n",
      "[3.5] [261.78]\n",
      "[4.3] [293.143]\n",
      "[3.5] [261.78]\n",
      "[2.] [202.975]\n",
      "[5.4] [336.266]\n",
      "[5.3] [332.346]\n",
      "[5.9] [355.868]\n",
      "[6.] [359.788]\n",
      "[3.7] [269.621]\n",
      "[5.7] [348.027]\n",
      "[1.6] [187.294]\n",
      "[3.5] [261.78]\n",
      "[3.2] [250.019]\n",
      "[3.5] [261.78]\n",
      "[3.4] [257.86]\n",
      "[2.4] [218.657]\n",
      "[2.5] [222.577]\n",
      "[3.2] [250.019]\n",
      "[3.] [242.179]\n",
      "[4.4] [297.063]\n",
      "[3.5] [261.78]\n",
      "[2.] [202.975]\n",
      "[6.] [359.788]\n",
      "[2.4] [218.657]\n",
      "[4.] [281.382]\n",
      "[4.4] [297.063]\n",
      "[2.5] [222.577]\n",
      "[1.8] [195.135]\n",
      "[1.6] [187.294]\n",
      "[5.3] [332.346]\n",
      "[5.3] [332.346]\n",
      "[1.6] [187.294]\n",
      "[2.] [202.975]\n",
      "[3.5] [261.78]\n",
      "[3.8] [273.541]\n",
      "[5.] [320.585]\n",
      "[4.4] [297.063]\n",
      "[4.3] [293.143]\n",
      "[3.5] [261.78]\n",
      "[3.7] [269.621]\n",
      "[2.4] [218.657]\n",
      "[5.] [320.585]\n",
      "[2.] [202.975]\n",
      "[2.] [202.975]\n",
      "[2.4] [218.657]\n",
      "[2.] [202.975]\n",
      "[3.5] [261.78]\n",
      "[1.2] [171.613]\n",
      "[3.5] [261.78]\n",
      "[3.6] [265.7]\n",
      "[3.7] [269.621]\n",
      "[2.7] [230.418]\n",
      "[4.] [281.382]\n",
      "[5.4] [336.266]\n",
      "[2.5] [222.577]\n",
      "[5.3] [332.346]\n",
      "[2.] [202.975]\n",
      "[2.] [202.975]\n",
      "[4.6] [304.904]\n",
      "[3.] [242.179]\n",
      "[6.4] [375.469]\n",
      "[3.7] [269.621]\n",
      "[2.5] [222.577]\n",
      "[2.4] [218.657]\n",
      "[3.] [242.179]\n",
      "[1.5] [183.374]\n",
      "[5.] [320.585]\n",
      "[3.5] [261.78]\n",
      "[2.] [202.975]\n",
      "[6.7] [387.23]\n",
      "[3.4] [257.86]\n",
      "[1.4] [179.453]\n",
      "[2.4] [218.657]\n",
      "[4.7] [308.824]\n",
      "[2.5] [222.577]\n",
      "[1.5] [183.374]\n",
      "[5.6] [344.107]\n",
      "[1.5] [183.374]\n",
      "[2.5] [222.577]\n",
      "[4.7] [308.824]\n",
      "[3.6] [265.7]\n",
      "[5.3] [332.346]\n",
      "[3.5] [261.78]\n",
      "[5.3] [332.346]\n",
      "[2.] [202.975]\n",
      "[3.5] [261.78]\n",
      "[5.3] [332.346]\n",
      "[3.] [242.179]\n",
      "[2.] [202.975]\n",
      "[3.7] [269.621]\n",
      "[2.5] [222.577]\n",
      "[3.6] [265.7]\n",
      "[6.2] [367.629]\n",
      "[2.] [202.975]\n",
      "[3.] [242.179]\n",
      "[4.7] [308.824]\n",
      "[5.] [320.585]\n",
      "[3.2] [250.019]\n",
      "[3.] [242.179]\n",
      "[1.3] [175.533]\n",
      "MAE :  25.839928072591537\n",
      "MSE :  1155.5026749752174\n",
      "R2 :  0.735682527297439\n"
     ]
    }
   ],
   "source": [
    "prediction = regression.predict(test[[\"ENGINESIZE\"]])\n",
    "for i in range(len(test)):\n",
    "  print(test[[\"ENGINESIZE\"]].values[i], prediction[i])\n",
    "\n",
    "print(\"MAE : \", mean_absolute_error(test[[\"CO2EMISSIONS\"]], prediction))\n",
    "print(\"MSE : \", mean_squared_error(test[[\"CO2EMISSIONS\"]], prediction))\n",
    "print(\"R2 : \", r2_score(test[[\"CO2EMISSIONS\"]], prediction))\n"
   ]
  },
  {
   "cell_type": "markdown",
   "metadata": {
    "colab_type": "text",
    "id": "xARTf0TrkbVQ"
   },
   "source": [
    "# Classification - KNN"
   ]
  },
  {
   "cell_type": "markdown",
   "metadata": {
    "colab_type": "text",
    "id": "X8azUIO8kbVP"
   },
   "source": [
    "Import all required packages"
   ]
  },
  {
   "cell_type": "code",
   "execution_count": 197,
   "metadata": {
    "colab": {},
    "colab_type": "code",
    "id": "6Krl6eDFkbVL"
   },
   "outputs": [],
   "source": [
    "import pandas as pd\n",
    "import numpy as np\n",
    "from sklearn.neighbors import KNeighborsClassifier\n",
    "from sklearn.metrics import accuracy_score, mean_squared_error, mean_absolute_error\n",
    "from sklearn import preprocessing\n",
    "from sklearn.model_selection import train_test_split\n"
   ]
  },
  {
   "cell_type": "markdown",
   "metadata": {
    "colab_type": "text",
    "id": "2inrtxnikbVJ"
   },
   "source": [
    "Load & profile the data"
   ]
  },
  {
   "cell_type": "code",
   "execution_count": 198,
   "metadata": {
    "colab": {
     "base_uri": "https://localhost:8080/",
     "height": 272
    },
    "colab_type": "code",
    "id": "xkXaYL02kbVA",
    "outputId": "f10412f5-f163-4525-84be-993ec8b51d17"
   },
   "outputs": [
    {
     "name": "stdout",
     "output_type": "stream",
     "text": [
      "passenger_id int64\n",
      "pclass int64\n",
      "name object\n",
      "sex object\n",
      "age float64\n",
      "sibsp int64\n",
      "parch int64\n",
      "ticket object\n",
      "fare float64\n",
      "cabin object\n",
      "embarked object\n",
      "boat object\n",
      "body float64\n",
      "home.dest object\n",
      "survived int64\n"
     ]
    }
   ],
   "source": [
    "dataTitanic = pd.read_csv(\"titanic_train.csv\")\n",
    "\n",
    "for i in dataTitanic:\n",
    "  print(i, dataTitanic[i].dtypes)\n",
    "  if dataTitanic[i].isna().values.any() and dataTitanic[i].dtypes != object:\n",
    "      dataTitanic[i] = dataTitanic[i].fillna(dataTitanic[i].mean())\n",
    "\n",
    "train, test = train_test_split(dataTitanic, test_size=0.2)\n"
   ]
  },
  {
   "cell_type": "markdown",
   "metadata": {
    "colab_type": "text",
    "id": "GC1s7r5ulcxD"
   },
   "source": [
    "Training Proces"
   ]
  },
  {
   "cell_type": "code",
   "execution_count": 199,
   "metadata": {
    "colab": {},
    "colab_type": "code",
    "id": "sEvFAnZulfwX"
   },
   "outputs": [],
   "source": [
    "KNN = KNeighborsClassifier(n_neighbors = 3).fit(train[[\"age\", \"fare\"]], train[\"survived\"])"
   ]
  },
  {
   "cell_type": "markdown",
   "metadata": {
    "colab_type": "text",
    "id": "lMxr70hCsjkU"
   },
   "source": [
    "Clasify new data & evaluate the model"
   ]
  },
  {
   "cell_type": "code",
   "execution_count": 200,
   "metadata": {
    "colab": {
     "base_uri": "https://localhost:8080/",
     "height": 85
    },
    "colab_type": "code",
    "id": "mpetPZczsrZ-",
    "outputId": "5efb4924-521d-4701-f909-a4c21d2f3763"
   },
   "outputs": [
    {
     "name": "stdout",
     "output_type": "stream",
     "text": [
      "[0 1]\n",
      " ACC : 0.66\n",
      " MAE : 0.34\n",
      " MSE : 0.34\n"
     ]
    }
   ],
   "source": [
    "newClassification = KNN.predict([[17,8],[8,10]])\n",
    "print(newClassification)\n",
    "\n",
    "classification = KNN.predict(test[[\"age\", \"fare\"]])\n",
    "accuracy = accuracy_score(test[\"survived\"], classification)\n",
    "MAE = mean_absolute_error(test[\"survived\"], classification)\n",
    "MSE = mean_squared_error(test[\"survived\"], classification)\n",
    "\n",
    "print(\" ACC : %.2f\" % accuracy)\n",
    "print(\" MAE : %.2f\" % MAE)\n",
    "print(\" MSE : %.2f\" % MSE)\n"
   ]
  },
  {
   "cell_type": "markdown",
   "metadata": {
    "colab_type": "text",
    "id": "lsQ4kf5lw6A-"
   },
   "source": [
    "Identify the best K"
   ]
  },
  {
   "cell_type": "code",
   "execution_count": 201,
   "metadata": {
    "colab": {
     "base_uri": "https://localhost:8080/",
     "height": 34
    },
    "colab_type": "code",
    "id": "waFnuxjFw9E_",
    "outputId": "8a0c3c4d-cad3-43f3-9b33-ed2e5fd43b12"
   },
   "outputs": [
    {
     "name": "stdout",
     "output_type": "stream",
     "text": [
      "Best  ACC : 0.69 , with k =  7\n"
     ]
    }
   ],
   "source": [
    "Ks = 10\n",
    "accuracy = np.zeros((Ks-1))\n",
    "ConfustionMx = [];\n",
    "for n in range(1, Ks):    \n",
    "    KNN = KNeighborsClassifier(n_neighbors = n).fit(train[[\"age\", \"fare\"]], train[\"survived\"])  \n",
    "    classification = KNN.predict(test[[\"age\", \"fare\"]])\n",
    "    accuracy[n - 1] = accuracy_score(test[\"survived\"], classification)\n",
    "    \n",
    "print(\"Best  ACC : %.2f\" % accuracy.max(), \", with k = \", accuracy.argmax() + 1)\n"
   ]
  },
  {
   "cell_type": "markdown",
   "metadata": {},
   "source": [
    "# Classification - Logistic Regression"
   ]
  },
  {
   "cell_type": "markdown",
   "metadata": {},
   "source": [
    "Use the same process of Import all required packages and Load & profile the data with Classification - KNN Section above. With an addition of sklearn.linear_models (Logistic) and some metrics from sklearn.metrics packages"
   ]
  },
  {
   "cell_type": "code",
   "execution_count": 202,
   "metadata": {},
   "outputs": [],
   "source": [
    "from sklearn.linear_model import LogisticRegression\n",
    "from sklearn.metrics import classification_report, confusion_matrix, f1_score"
   ]
  },
  {
   "cell_type": "markdown",
   "metadata": {},
   "source": [
    "Train with Logistic Regression"
   ]
  },
  {
   "cell_type": "code",
   "execution_count": 203,
   "metadata": {},
   "outputs": [],
   "source": [
    "LGR = LogisticRegression(C = 0.01, solver = 'liblinear').fit(train[[\"age\", \"fare\"]], train[\"survived\"]) "
   ]
  },
  {
   "cell_type": "markdown",
   "metadata": {},
   "source": [
    "Clasify new data & evaluate the model (plus F1 and classification report)"
   ]
  },
  {
   "cell_type": "code",
   "execution_count": 204,
   "metadata": {},
   "outputs": [
    {
     "name": "stdout",
     "output_type": "stream",
     "text": [
      "[0 0]\n",
      " ACC : 0.65\n",
      " MAE : 0.35\n",
      " MSE : 0.35\n",
      " F1  : 0.61\n",
      "              precision    recall  f1-score   support\n",
      "\n",
      "           0       0.65      0.91      0.76       102\n",
      "           1       0.67      0.26      0.38        68\n",
      "\n",
      "    accuracy                           0.65       170\n",
      "   macro avg       0.66      0.59      0.57       170\n",
      "weighted avg       0.66      0.65      0.61       170\n",
      "\n",
      "[[93  9]\n",
      " [50 18]]\n"
     ]
    }
   ],
   "source": [
    "newClassification = LGR.predict([[17,8],[8,10]])\n",
    "print(newClassification)\n",
    "\n",
    "classification = LGR.predict(test[[\"age\", \"fare\"]])\n",
    "accuracy = accuracy_score(test[\"survived\"], classification)\n",
    "MAE = mean_absolute_error(test[\"survived\"], classification)\n",
    "MSE = mean_squared_error(test[\"survived\"], classification)\n",
    "F1  = f1_score(test[\"survived\"], classification, average='weighted') \n",
    "cnf_matrix = confusion_matrix(test[\"survived\"], classification, labels=[0,1])\n",
    "\n",
    "\n",
    "print(\" ACC : %.2f\" % accuracy)\n",
    "print(\" MAE : %.2f\" % MAE)\n",
    "print(\" MSE : %.2f\" % MSE)\n",
    "print(\" F1  : %.2f\" % F1)\n",
    "print (classification_report(test[\"survived\"], classification))\n",
    "print(cnf_matrix)"
   ]
  },
  {
   "cell_type": "markdown",
   "metadata": {},
   "source": [
    "Probability each class"
   ]
  },
  {
   "cell_type": "code",
   "execution_count": 205,
   "metadata": {},
   "outputs": [
    {
     "name": "stdout",
     "output_type": "stream",
     "text": [
      "[[0.52  0.48 ]\n",
      " [0.616 0.384]\n",
      " [0.728 0.272]\n",
      " [0.689 0.311]\n",
      " [0.681 0.319]\n",
      " [0.636 0.364]\n",
      " [0.645 0.355]\n",
      " [0.627 0.373]\n",
      " [0.675 0.325]\n",
      " [0.074 0.926]\n",
      " [0.514 0.486]\n",
      " [0.534 0.466]\n",
      " [0.689 0.311]\n",
      " [0.592 0.408]\n",
      " [0.638 0.362]\n",
      " [0.69  0.31 ]\n",
      " [0.613 0.387]\n",
      " [0.641 0.359]\n",
      " [0.689 0.311]\n",
      " [0.727 0.273]\n",
      " [0.64  0.36 ]\n",
      " [0.574 0.426]\n",
      " [0.584 0.416]\n",
      " [0.652 0.348]\n",
      " [0.648 0.352]\n",
      " [0.555 0.445]\n",
      " [0.658 0.342]\n",
      " [0.704 0.296]\n",
      " [0.645 0.355]\n",
      " [0.673 0.327]\n",
      " [0.691 0.309]\n",
      " [0.474 0.526]\n",
      " [0.642 0.358]\n",
      " [0.689 0.311]\n",
      " [0.689 0.311]\n",
      " [0.506 0.494]\n",
      " [0.562 0.438]\n",
      " [0.505 0.495]\n",
      " [0.633 0.367]\n",
      " [0.635 0.365]\n",
      " [0.64  0.36 ]\n",
      " [0.579 0.421]\n",
      " [0.524 0.476]\n",
      " [0.524 0.476]\n",
      " [0.775 0.225]\n",
      " [0.673 0.327]\n",
      " [0.648 0.352]\n",
      " [0.508 0.492]\n",
      " [0.689 0.311]\n",
      " [0.577 0.423]\n",
      " [0.78  0.22 ]\n",
      " [0.751 0.249]\n",
      " [0.657 0.343]\n",
      " [0.813 0.187]\n",
      " [0.764 0.236]\n",
      " [0.494 0.506]\n",
      " [0.473 0.527]\n",
      " [0.798 0.202]\n",
      " [0.687 0.313]\n",
      " [0.689 0.311]\n",
      " [0.478 0.522]\n",
      " [0.646 0.354]\n",
      " [0.13  0.87 ]\n",
      " [0.627 0.373]\n",
      " [0.273 0.727]\n",
      " [0.679 0.321]\n",
      " [0.819 0.181]\n",
      " [0.642 0.358]\n",
      " [0.671 0.329]\n",
      " [0.548 0.452]\n",
      " [0.633 0.367]\n",
      " [0.647 0.353]\n",
      " [0.828 0.172]\n",
      " [0.691 0.309]\n",
      " [0.457 0.543]\n",
      " [0.693 0.307]\n",
      " [0.675 0.325]\n",
      " [0.754 0.246]\n",
      " [0.664 0.336]\n",
      " [0.607 0.393]\n",
      " [0.644 0.356]\n",
      " [0.645 0.355]\n",
      " [0.679 0.321]\n",
      " [0.752 0.248]\n",
      " [0.646 0.354]\n",
      " [0.652 0.348]\n",
      " [0.69  0.31 ]\n",
      " [0.605 0.395]\n",
      " [0.688 0.312]\n",
      " [0.52  0.48 ]\n",
      " [0.681 0.319]\n",
      " [0.69  0.31 ]\n",
      " [0.32  0.68 ]\n",
      " [0.497 0.503]\n",
      " [0.609 0.391]\n",
      " [0.68  0.32 ]\n",
      " [0.488 0.512]\n",
      " [0.659 0.341]\n",
      " [0.262 0.738]\n",
      " [0.709 0.291]\n",
      " [0.592 0.408]\n",
      " [0.501 0.499]\n",
      " [0.708 0.292]\n",
      " [0.584 0.416]\n",
      " [0.736 0.264]\n",
      " [0.491 0.509]\n",
      " [0.642 0.358]\n",
      " [0.56  0.44 ]\n",
      " [0.498 0.502]\n",
      " [0.663 0.337]\n",
      " [0.687 0.313]\n",
      " [0.667 0.333]\n",
      " [0.495 0.505]\n",
      " [0.654 0.346]\n",
      " [0.646 0.354]\n",
      " [0.691 0.309]\n",
      " [0.119 0.881]\n",
      " [0.466 0.534]\n",
      " [0.665 0.335]\n",
      " [0.642 0.358]\n",
      " [0.581 0.419]\n",
      " [0.586 0.414]\n",
      " [0.633 0.367]\n",
      " [0.633 0.367]\n",
      " [0.481 0.519]\n",
      " [0.632 0.368]\n",
      " [0.704 0.296]\n",
      " [0.487 0.513]\n",
      " [0.424 0.576]\n",
      " [0.669 0.331]\n",
      " [0.531 0.469]\n",
      " [0.689 0.311]\n",
      " [0.609 0.391]\n",
      " [0.707 0.293]\n",
      " [0.491 0.509]\n",
      " [0.717 0.283]\n",
      " [0.69  0.31 ]\n",
      " [0.395 0.605]\n",
      " [0.746 0.254]\n",
      " [0.292 0.708]\n",
      " [0.648 0.352]\n",
      " [0.55  0.45 ]\n",
      " [0.522 0.478]\n",
      " [0.689 0.311]\n",
      " [0.622 0.378]\n",
      " [0.691 0.309]\n",
      " [0.328 0.672]\n",
      " [0.491 0.509]\n",
      " [0.689 0.311]\n",
      " [0.676 0.324]\n",
      " [0.645 0.355]\n",
      " [0.506 0.494]\n",
      " [0.734 0.266]\n",
      " [0.65  0.35 ]\n",
      " [0.779 0.221]\n",
      " [0.476 0.524]\n",
      " [0.524 0.476]\n",
      " [0.639 0.361]\n",
      " [0.708 0.292]\n",
      " [0.703 0.297]\n",
      " [0.691 0.309]\n",
      " [0.669 0.331]\n",
      " [0.644 0.356]\n",
      " [0.709 0.291]\n",
      " [0.639 0.361]\n",
      " [0.538 0.462]\n",
      " [0.424 0.576]\n",
      " [0.69  0.31 ]\n",
      " [0.656 0.344]\n",
      " [0.639 0.361]]\n"
     ]
    }
   ],
   "source": [
    "classificationProb = LGR.predict_proba(test[[\"age\", \"fare\"]])\n",
    "print(classificationProb)"
   ]
  },
  {
   "cell_type": "markdown",
   "metadata": {},
   "source": [
    "# Classification - Decision Tree"
   ]
  },
  {
   "cell_type": "markdown",
   "metadata": {},
   "source": [
    "Use the same process of Import all required packages and Load & profile the data with Classification - KNN Section above. With an addition of sklearn.tree (DecisionTree)"
   ]
  },
  {
   "cell_type": "code",
   "execution_count": 206,
   "metadata": {},
   "outputs": [],
   "source": [
    "from sklearn.tree import DecisionTreeClassifier"
   ]
  },
  {
   "cell_type": "markdown",
   "metadata": {},
   "source": [
    "Training Process"
   ]
  },
  {
   "cell_type": "code",
   "execution_count": 207,
   "metadata": {},
   "outputs": [],
   "source": [
    "DST = DecisionTreeClassifier(criterion=\"gini\", max_depth = 10).fit(train[[\"age\", \"fare\"]], train[\"survived\"]) "
   ]
  },
  {
   "cell_type": "markdown",
   "metadata": {},
   "source": [
    "Clasify new data & evaluate the model"
   ]
  },
  {
   "cell_type": "code",
   "execution_count": 208,
   "metadata": {},
   "outputs": [
    {
     "name": "stdout",
     "output_type": "stream",
     "text": [
      "[0 0]\n",
      " ACC : 0.66\n",
      " MAE : 0.34\n",
      " MSE : 0.34\n",
      " F1  : 0.63\n",
      "              precision    recall  f1-score   support\n",
      "\n",
      "           0       0.67      0.86      0.75       102\n",
      "           1       0.63      0.35      0.45        68\n",
      "\n",
      "    accuracy                           0.66       170\n",
      "   macro avg       0.65      0.61      0.60       170\n",
      "weighted avg       0.65      0.66      0.63       170\n",
      "\n",
      "[[88 14]\n",
      " [44 24]]\n"
     ]
    }
   ],
   "source": [
    "newClassification = DST.predict([[17,8],[8,10]])\n",
    "print(newClassification)\n",
    "\n",
    "classification = DST.predict(test[[\"age\", \"fare\"]])\n",
    "accuracy = accuracy_score(test[\"survived\"], classification)\n",
    "MAE = mean_absolute_error(test[\"survived\"], classification)\n",
    "MSE = mean_squared_error(test[\"survived\"], classification)\n",
    "F1  = f1_score(test[\"survived\"], classification, average='weighted') \n",
    "cnf_matrix = confusion_matrix(test[\"survived\"], classification, labels=[0,1])\n",
    "\n",
    "\n",
    "print(\" ACC : %.2f\" % accuracy)\n",
    "print(\" MAE : %.2f\" % MAE)\n",
    "print(\" MSE : %.2f\" % MSE)\n",
    "print(\" F1  : %.2f\" % F1)\n",
    "print (classification_report(test[\"survived\"], classification))\n",
    "print(cnf_matrix)"
   ]
  },
  {
   "cell_type": "markdown",
   "metadata": {},
   "source": [
    "# Classification - SVM"
   ]
  },
  {
   "cell_type": "markdown",
   "metadata": {},
   "source": [
    "Use the same process of Import all required packages and Load & profile the data with Classification - KNN Section above. With an addition of sklearn.svm"
   ]
  },
  {
   "cell_type": "code",
   "execution_count": 209,
   "metadata": {},
   "outputs": [],
   "source": [
    "from sklearn import svm"
   ]
  },
  {
   "cell_type": "markdown",
   "metadata": {},
   "source": [
    "Training Process"
   ]
  },
  {
   "cell_type": "code",
   "execution_count": 210,
   "metadata": {},
   "outputs": [],
   "source": [
    "SVM = svm.SVC(kernel='rbf', gamma='auto').fit(train[[\"age\", \"fare\"]], train[\"survived\"]) "
   ]
  },
  {
   "cell_type": "markdown",
   "metadata": {},
   "source": [
    "Clasify new data & evaluate the model"
   ]
  },
  {
   "cell_type": "code",
   "execution_count": 211,
   "metadata": {},
   "outputs": [
    {
     "name": "stdout",
     "output_type": "stream",
     "text": [
      "[0 0]\n",
      " ACC : 0.59\n",
      " MAE : 0.41\n",
      " MSE : 0.41\n",
      " F1  : 0.52\n",
      "              precision    recall  f1-score   support\n",
      "\n",
      "           0       0.61      0.88      0.72       102\n",
      "           1       0.45      0.15      0.22        68\n",
      "\n",
      "    accuracy                           0.59       170\n",
      "   macro avg       0.53      0.51      0.47       170\n",
      "weighted avg       0.55      0.59      0.52       170\n",
      "\n",
      "[[90 12]\n",
      " [58 10]]\n"
     ]
    }
   ],
   "source": [
    "newClassification = SVM.predict([[17,8],[8,10]])\n",
    "print(newClassification)\n",
    "\n",
    "classification = SVM.predict(test[[\"age\", \"fare\"]])\n",
    "accuracy = accuracy_score(test[\"survived\"], classification)\n",
    "MAE = mean_absolute_error(test[\"survived\"], classification)\n",
    "MSE = mean_squared_error(test[\"survived\"], classification)\n",
    "F1  = f1_score(test[\"survived\"], classification, average='weighted') \n",
    "cnf_matrix = confusion_matrix(test[\"survived\"], classification, labels=[0,1])\n",
    "\n",
    "\n",
    "print(\" ACC : %.2f\" % accuracy)\n",
    "print(\" MAE : %.2f\" % MAE)\n",
    "print(\" MSE : %.2f\" % MSE)\n",
    "print(\" F1  : %.2f\" % F1)\n",
    "print (classification_report(test[\"survived\"], classification))\n",
    "print(cnf_matrix)"
   ]
  },
  {
   "cell_type": "markdown",
   "metadata": {},
   "source": [
    "# Classification - Additional Material"
   ]
  },
  {
   "cell_type": "markdown",
   "metadata": {},
   "source": [
    "Import required packages"
   ]
  },
  {
   "cell_type": "code",
   "execution_count": 212,
   "metadata": {},
   "outputs": [],
   "source": [
    "import pandas as pd\n",
    "import numpy as np\n",
    "from sklearn import svm, preprocessing\n",
    "from sklearn.metrics import accuracy_score, mean_squared_error, mean_absolute_error, classification_report, confusion_matrix, f1_score\n",
    "from sklearn.model_selection import train_test_split"
   ]
  },
  {
   "cell_type": "markdown",
   "metadata": {},
   "source": [
    "Pre-processing"
   ]
  },
  {
   "cell_type": "code",
   "execution_count": 213,
   "metadata": {},
   "outputs": [
    {
     "name": "stdout",
     "output_type": "stream",
     "text": [
      "passenger_id int64\n",
      "pclass int64\n",
      "name object\n",
      "sex object\n",
      "age float64\n",
      "sibsp int64\n",
      "parch int64\n",
      "ticket object\n",
      "fare float64\n",
      "cabin object\n",
      "embarked object\n",
      "boat object\n",
      "body float64\n",
      "home.dest object\n",
      "survived int64\n"
     ]
    }
   ],
   "source": [
    "dataTitanic = pd.read_csv(\"titanic_train.csv\")\n",
    "\n",
    "for i in dataTitanic:\n",
    "  print(i, dataTitanic[i].dtypes)\n",
    "  if dataTitanic[i].isna().values.any() and dataTitanic[i].dtypes != object:\n",
    "      dataTitanic[i] = dataTitanic[i].fillna(dataTitanic[i].mean())\n",
    "\n"
   ]
  },
  {
   "cell_type": "markdown",
   "metadata": {},
   "source": [
    "Preprocess - encode non real values"
   ]
  },
  {
   "cell_type": "code",
   "execution_count": 214,
   "metadata": {},
   "outputs": [],
   "source": [
    "X = dataTitanic[[\"age\", \"fare\", \"sex\"]].values\n",
    "encode = preprocessing.LabelEncoder().fit(['male','female'])\n",
    "X[:,2] = encode.transform(X[:,2]) \n",
    "Y = dataTitanic[\"survived\"]\n",
    "\n",
    "XTrain, XTest, YTrain, YTest = train_test_split(X,Y, test_size=0.2, random_state=3)"
   ]
  },
  {
   "cell_type": "markdown",
   "metadata": {},
   "source": [
    "Clasify new data & evaluate the model - SVM"
   ]
  },
  {
   "cell_type": "code",
   "execution_count": 215,
   "metadata": {},
   "outputs": [
    {
     "name": "stdout",
     "output_type": "stream",
     "text": [
      "[0 0]\n",
      " ACC : 0.69\n",
      " MAE : 0.31\n",
      " MSE : 0.31\n",
      " F1  : 0.68\n",
      "              precision    recall  f1-score   support\n",
      "\n",
      "           0       0.74      0.84      0.79       113\n",
      "           1       0.56      0.40      0.47        57\n",
      "\n",
      "    accuracy                           0.69       170\n",
      "   macro avg       0.65      0.62      0.63       170\n",
      "weighted avg       0.68      0.69      0.68       170\n",
      "\n",
      "[[95 18]\n",
      " [34 23]]\n"
     ]
    }
   ],
   "source": [
    "SVM = svm.SVC(kernel='rbf', gamma='auto').fit(XTrain, YTrain) \n",
    "newClassification = SVM.predict([[17,8,1],[8,10,0]])\n",
    "print(newClassification)\n",
    "\n",
    "classification = SVM.predict(XTest)\n",
    "accuracy = accuracy_score(YTest, classification)\n",
    "MAE = mean_absolute_error(YTest, classification)\n",
    "MSE = mean_squared_error(YTest, classification)\n",
    "F1  = f1_score(YTest, classification, average='weighted') \n",
    "cnf_matrix = confusion_matrix(YTest, classification, labels=[0,1])\n",
    "\n",
    "\n",
    "print(\" ACC : %.2f\" % accuracy)\n",
    "print(\" MAE : %.2f\" % MAE)\n",
    "print(\" MSE : %.2f\" % MSE)\n",
    "print(\" F1  : %.2f\" % F1)\n",
    "print (classification_report(YTest, classification))\n",
    "print(cnf_matrix)"
   ]
  },
  {
   "cell_type": "markdown",
   "metadata": {},
   "source": [
    "Clasify new data & evaluate the model - Decision Tree"
   ]
  },
  {
   "cell_type": "code",
   "execution_count": 216,
   "metadata": {},
   "outputs": [
    {
     "name": "stdout",
     "output_type": "stream",
     "text": [
      "[0 0]\n",
      " ACC : 0.79\n",
      " MAE : 0.21\n",
      " MSE : 0.21\n",
      " F1  : 0.79\n",
      "              precision    recall  f1-score   support\n",
      "\n",
      "           0       0.84      0.86      0.85       113\n",
      "           1       0.70      0.67      0.68        57\n",
      "\n",
      "    accuracy                           0.79       170\n",
      "   macro avg       0.77      0.76      0.77       170\n",
      "weighted avg       0.79      0.79      0.79       170\n",
      "\n",
      "[[97 16]\n",
      " [19 38]]\n"
     ]
    }
   ],
   "source": [
    "DST = DecisionTreeClassifier(criterion=\"gini\", max_depth = 10).fit(XTrain, YTrain) \n",
    "newClassification = SVM.predict([[17,8,1],[8,10,0]])\n",
    "print(newClassification)\n",
    "\n",
    "classification = DST.predict(XTest)\n",
    "accuracy = accuracy_score(YTest, classification)\n",
    "MAE = mean_absolute_error(YTest, classification)\n",
    "MSE = mean_squared_error(YTest, classification)\n",
    "F1  = f1_score(YTest, classification, average='weighted') \n",
    "cnf_matrix = confusion_matrix(YTest, classification, labels=[0,1])\n",
    "\n",
    "\n",
    "print(\" ACC : %.2f\" % accuracy)\n",
    "print(\" MAE : %.2f\" % MAE)\n",
    "print(\" MSE : %.2f\" % MSE)\n",
    "print(\" F1  : %.2f\" % F1)\n",
    "print (classification_report(YTest, classification))\n",
    "print(cnf_matrix)"
   ]
  }
 ],
 "metadata": {
  "colab": {
   "collapsed_sections": [
    "fgjQzo6KNAAB",
    "xARTf0TrkbVQ"
   ],
   "name": "COMP6577-2.ipynb",
   "provenance": []
  },
  "kernelspec": {
   "display_name": "Python 3",
   "language": "python",
   "name": "python3"
  },
  "language_info": {
   "codemirror_mode": {
    "name": "ipython",
    "version": 3
   },
   "file_extension": ".py",
   "mimetype": "text/x-python",
   "name": "python",
   "nbconvert_exporter": "python",
   "pygments_lexer": "ipython3",
   "version": "3.7.4"
  }
 },
 "nbformat": 4,
 "nbformat_minor": 1
}
