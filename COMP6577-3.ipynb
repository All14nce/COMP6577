{
 "cells": [
  {
   "cell_type": "markdown",
   "metadata": {
    "colab_type": "text",
    "id": "fgjQzo6KNAAB"
   },
   "source": [
    "# Linear Regression\n",
    "[![Open In Colab](https://colab.research.google.com/assets/colab-badge.svg)](https://colab.research.google.com/github/andrychowanda/COMP6577/blob/master/COMP6577-3.ipynb)"
   ]
  },
  {
   "cell_type": "markdown",
   "metadata": {
    "colab_type": "text",
    "id": "zDpMl5FQNyNQ"
   },
   "source": [
    "Import required packages"
   ]
  },
  {
   "cell_type": "code",
   "execution_count": 0,
   "metadata": {
    "colab": {},
    "colab_type": "code",
    "id": "1aohIdmfKieM"
   },
   "outputs": [],
   "source": [
    "import matplotlib.pyplot as plt\n",
    "import pandas as pd\n",
    "from sklearn import linear_model\n",
    "from sklearn.model_selection import train_test_split\n",
    "import numpy as np\n",
    "import seaborn as sb\n",
    "from sklearn.metrics import r2_score, mean_squared_error, mean_absolute_error\n"
   ]
  },
  {
   "cell_type": "markdown",
   "metadata": {
    "colab_type": "text",
    "id": "Q18oAKMFVMzw"
   },
   "source": [
    "Load and Profile the Data"
   ]
  },
  {
   "cell_type": "code",
   "execution_count": null,
   "metadata": {},
   "outputs": [],
   "source": [
    "!wget https://raw.githubusercontent.com/andrychowanda/COMP6577/master/FuelConsumptionCo2.csv"
   ]
  },
  {
   "cell_type": "code",
   "execution_count": 94,
   "metadata": {
    "colab": {
     "base_uri": "https://localhost:8080/",
     "height": 272
    },
    "colab_type": "code",
    "id": "lFBgj7bsVMzx",
    "outputId": "c5bc7818-b9f3-45a3-d84b-f74dff9658ab"
   },
   "outputs": [
    {
     "name": "stdout",
     "output_type": "stream",
     "text": [
      "MODELYEAR                     int64\n",
      "MAKE                         object\n",
      "MODEL                        object\n",
      "VEHICLECLASS                 object\n",
      "ENGINESIZE                  float64\n",
      "CYLINDERS                     int64\n",
      "TRANSMISSION                 object\n",
      "FUELTYPE                     object\n",
      "FUELCONSUMPTION_CITY        float64\n",
      "FUELCONSUMPTION_HWY         float64\n",
      "FUELCONSUMPTION_COMB        float64\n",
      "FUELCONSUMPTION_COMB_MPG      int64\n",
      "CO2EMISSIONS                  int64\n",
      "dtype: object\n",
      "False\n"
     ]
    }
   ],
   "source": [
    "fuelData = pd.read_csv(\"FuelConsumptionCo2.csv\")\n",
    "print(fuelData.dtypes)\n",
    "print(fuelData.isna().values.any())"
   ]
  },
  {
   "cell_type": "markdown",
   "metadata": {
    "colab_type": "text",
    "id": "6ZDhtlblVMz0"
   },
   "source": [
    "Create new Data Frame with selected Features"
   ]
  },
  {
   "cell_type": "code",
   "execution_count": 95,
   "metadata": {
    "colab": {
     "base_uri": "https://localhost:8080/",
     "height": 153
    },
    "colab_type": "code",
    "id": "BL-moETCVMz0",
    "outputId": "5025435f-bdfd-4504-e8e0-7ff3fd450c62"
   },
   "outputs": [
    {
     "name": "stdout",
     "output_type": "stream",
     "text": [
      "   CYLINDERS  ENGINESIZE  ...  FUELCONSUMPTION_HWY  FUELCONSUMPTION_COMB_MPG\n",
      "0          4         2.0  ...                  6.7                        33\n",
      "1          4         2.4  ...                  7.7                        29\n",
      "2          4         1.5  ...                  5.8                        48\n",
      "3          6         3.5  ...                  9.1                        25\n",
      "4          6         3.5  ...                  8.7                        27\n",
      "\n",
      "[5 rows x 7 columns]\n"
     ]
    }
   ],
   "source": [
    "newFuelData = fuelData[[\"CYLINDERS\", \"ENGINESIZE\", \"CO2EMISSIONS\", \"FUELCONSUMPTION_COMB\", \"FUELCONSUMPTION_CITY\", \"FUELCONSUMPTION_HWY\", \"FUELCONSUMPTION_COMB_MPG\"]]\n",
    "print(newFuelData.head())"
   ]
  },
  {
   "cell_type": "markdown",
   "metadata": {
    "colab_type": "text",
    "id": "h6QoAGe9VMz3"
   },
   "source": [
    "Train the data using linear regression"
   ]
  },
  {
   "cell_type": "code",
   "execution_count": 96,
   "metadata": {
    "colab": {
     "base_uri": "https://localhost:8080/",
     "height": 51
    },
    "colab_type": "code",
    "id": "AT827PsZY8_Z",
    "outputId": "82e73aaa-82fa-4c52-d01f-e7a2f3a5f939"
   },
   "outputs": [
    {
     "name": "stdout",
     "output_type": "stream",
     "text": [
      "Coefficients:  [[38.97748989]]\n",
      "Intercept:  [125.55568676]\n"
     ]
    }
   ],
   "source": [
    "train, test = train_test_split(newFuelData, test_size=0.2)\n",
    "regression = linear_model.LinearRegression()\n",
    "regression.fit(train[[\"ENGINESIZE\"]], train[[\"CO2EMISSIONS\"]])\n",
    "print('Coefficients: ', regression.coef_)\n",
    "print('Intercept: ',regression.intercept_)"
   ]
  },
  {
   "cell_type": "markdown",
   "metadata": {
    "colab_type": "text",
    "id": "lQxMNI69VMz6"
   },
   "source": [
    "Evaluate the model"
   ]
  },
  {
   "cell_type": "code",
   "execution_count": 97,
   "metadata": {
    "colab": {
     "base_uri": "https://localhost:8080/",
     "height": 1000
    },
    "colab_type": "code",
    "id": "7tYAxyUBZ7Kj",
    "outputId": "6267a19e-cff2-40fa-fb19-f25f8c3ba2da"
   },
   "outputs": [
    {
     "name": "stdout",
     "output_type": "stream",
     "text": [
      "[3.8] [273.67014835]\n",
      "[1.4] [180.12417261]\n",
      "[4.8] [312.64763824]\n",
      "[3.6] [265.87465037]\n",
      "[6.8] [390.60261802]\n",
      "[3.5] [261.97690138]\n",
      "[2.] [203.51066654]\n",
      "[4.] [281.46564632]\n",
      "[3.7] [269.77239936]\n",
      "[1.8] [195.71516856]\n",
      "[3.6] [265.87465037]\n",
      "[3.5] [261.97690138]\n",
      "[3.6] [265.87465037]\n",
      "[5.3] [332.13638318]\n",
      "[1.4] [180.12417261]\n",
      "[3.6] [265.87465037]\n",
      "[2.] [203.51066654]\n",
      "[1.4] [180.12417261]\n",
      "[2.1] [207.40841553]\n",
      "[3.] [242.48815643]\n",
      "[3.5] [261.97690138]\n",
      "[3.6] [265.87465037]\n",
      "[1.5] [184.0219216]\n",
      "[2.] [203.51066654]\n",
      "[3.5] [261.97690138]\n",
      "[2.5] [222.99941149]\n",
      "[2.5] [222.99941149]\n",
      "[2.4] [219.1016625]\n",
      "[4.3] [293.15889329]\n",
      "[2.4] [219.1016625]\n",
      "[3.5] [261.97690138]\n",
      "[5.3] [332.13638318]\n",
      "[3.6] [265.87465037]\n",
      "[4.4] [297.05664228]\n",
      "[4.4] [297.05664228]\n",
      "[2.] [203.51066654]\n",
      "[3.] [242.48815643]\n",
      "[5.3] [332.13638318]\n",
      "[1.4] [180.12417261]\n",
      "[3.] [242.48815643]\n",
      "[3.6] [265.87465037]\n",
      "[3.6] [265.87465037]\n",
      "[5.3] [332.13638318]\n",
      "[3.5] [261.97690138]\n",
      "[3.6] [265.87465037]\n",
      "[2.5] [222.99941149]\n",
      "[2.] [203.51066654]\n",
      "[6.2] [367.21612409]\n",
      "[4.] [281.46564632]\n",
      "[4.8] [312.64763824]\n",
      "[3.6] [265.87465037]\n",
      "[1.5] [184.0219216]\n",
      "[2.5] [222.99941149]\n",
      "[2.] [203.51066654]\n",
      "[3.] [242.48815643]\n",
      "[2.] [203.51066654]\n",
      "[3.5] [261.97690138]\n",
      "[1.2] [172.32867463]\n",
      "[5.7] [347.72737914]\n",
      "[2.] [203.51066654]\n",
      "[1.6] [187.91967058]\n",
      "[4.6] [304.85214026]\n",
      "[2.] [203.51066654]\n",
      "[2.5] [222.99941149]\n",
      "[3.2] [250.28365441]\n",
      "[2.] [203.51066654]\n",
      "[3.7] [269.77239936]\n",
      "[2.] [203.51066654]\n",
      "[1.6] [187.91967058]\n",
      "[6.2] [367.21612409]\n",
      "[4.3] [293.15889329]\n",
      "[2.] [203.51066654]\n",
      "[3.] [242.48815643]\n",
      "[3.] [242.48815643]\n",
      "[5.4] [336.03413217]\n",
      "[3.5] [261.97690138]\n",
      "[3.] [242.48815643]\n",
      "[5.2] [328.23863419]\n",
      "[3.] [242.48815643]\n",
      "[3.] [242.48815643]\n",
      "[1.2] [172.32867463]\n",
      "[1.8] [195.71516856]\n",
      "[4.4] [297.05664228]\n",
      "[3.6] [265.87465037]\n",
      "[1.6] [187.91967058]\n",
      "[2.] [203.51066654]\n",
      "[5.] [320.44313622]\n",
      "[3.8] [273.67014835]\n",
      "[5.3] [332.13638318]\n",
      "[2.] [203.51066654]\n",
      "[2.] [203.51066654]\n",
      "[6.2] [367.21612409]\n",
      "[3.6] [265.87465037]\n",
      "[4.7] [308.74988925]\n",
      "[2.] [203.51066654]\n",
      "[2.5] [222.99941149]\n",
      "[3.6] [265.87465037]\n",
      "[1.6] [187.91967058]\n",
      "[3.7] [269.77239936]\n",
      "[3.6] [265.87465037]\n",
      "[6.6] [382.80712004]\n",
      "[1.4] [180.12417261]\n",
      "[3.3] [254.1814034]\n",
      "[2.4] [219.1016625]\n",
      "[3.5] [261.97690138]\n",
      "[3.] [242.48815643]\n",
      "[4.3] [293.15889329]\n",
      "[3.] [242.48815643]\n",
      "[2.] [203.51066654]\n",
      "[1.8] [195.71516856]\n",
      "[2.5] [222.99941149]\n",
      "[3.3] [254.1814034]\n",
      "[1.8] [195.71516856]\n",
      "[2.] [203.51066654]\n",
      "[2.] [203.51066654]\n",
      "[5.3] [332.13638318]\n",
      "[2.5] [222.99941149]\n",
      "[3.7] [269.77239936]\n",
      "[2.4] [219.1016625]\n",
      "[6.2] [367.21612409]\n",
      "[2.4] [219.1016625]\n",
      "[1.] [164.53317665]\n",
      "[3.5] [261.97690138]\n",
      "[5.6] [343.82963015]\n",
      "[2.5] [222.99941149]\n",
      "[3.] [242.48815643]\n",
      "[1.6] [187.91967058]\n",
      "[3.2] [250.28365441]\n",
      "[3.] [242.48815643]\n",
      "[5.3] [332.13638318]\n",
      "[2.] [203.51066654]\n",
      "[3.4] [258.07915239]\n",
      "[2.5] [222.99941149]\n",
      "[3.8] [273.67014835]\n",
      "[2.1] [207.40841553]\n",
      "[3.5] [261.97690138]\n",
      "[6.2] [367.21612409]\n",
      "[3.6] [265.87465037]\n",
      "[2.] [203.51066654]\n",
      "[2.] [203.51066654]\n",
      "[3.6] [265.87465037]\n",
      "[3.5] [261.97690138]\n",
      "[5.4] [336.03413217]\n",
      "[3.] [242.48815643]\n",
      "[4.4] [297.05664228]\n",
      "[1.8] [195.71516856]\n",
      "[5.] [320.44313622]\n",
      "[2.5] [222.99941149]\n",
      "[2.4] [219.1016625]\n",
      "[3.5] [261.97690138]\n",
      "[1.6] [187.91967058]\n",
      "[2.] [203.51066654]\n",
      "[3.5] [261.97690138]\n",
      "[2.] [203.51066654]\n",
      "[2.] [203.51066654]\n",
      "[2.4] [219.1016625]\n",
      "[2.] [203.51066654]\n",
      "[1.6] [187.91967058]\n",
      "[2.5] [222.99941149]\n",
      "[4.4] [297.05664228]\n",
      "[3.5] [261.97690138]\n",
      "[5.] [320.44313622]\n",
      "[1.4] [180.12417261]\n",
      "[3.5] [261.97690138]\n",
      "[2.] [203.51066654]\n",
      "[4.7] [308.74988925]\n",
      "[3.5] [261.97690138]\n",
      "[5.] [320.44313622]\n",
      "[3.] [242.48815643]\n",
      "[1.6] [187.91967058]\n",
      "[3.5] [261.97690138]\n",
      "[5.3] [332.13638318]\n",
      "[5.3] [332.13638318]\n",
      "[2.] [203.51066654]\n",
      "[2.4] [219.1016625]\n",
      "[6.2] [367.21612409]\n",
      "[6.2] [367.21612409]\n",
      "[2.] [203.51066654]\n",
      "[3.] [242.48815643]\n",
      "[2.] [203.51066654]\n",
      "[3.] [242.48815643]\n",
      "[3.6] [265.87465037]\n",
      "[1.6] [187.91967058]\n",
      "[1.6] [187.91967058]\n",
      "[3.5] [261.97690138]\n",
      "[1.8] [195.71516856]\n",
      "[3.6] [265.87465037]\n",
      "[4.4] [297.05664228]\n",
      "[3.7] [269.77239936]\n",
      "[3.6] [265.87465037]\n",
      "[3.2] [250.28365441]\n",
      "[2.] [203.51066654]\n",
      "[5.5] [339.93188116]\n",
      "[3.5] [261.97690138]\n",
      "[2.5] [222.99941149]\n",
      "[2.] [203.51066654]\n",
      "[3.6] [265.87465037]\n",
      "[1.4] [180.12417261]\n",
      "[3.8] [273.67014835]\n",
      "[3.6] [265.87465037]\n",
      "[3.6] [265.87465037]\n",
      "[3.] [242.48815643]\n",
      "[3.6] [265.87465037]\n",
      "[4.8] [312.64763824]\n",
      "[3.] [242.48815643]\n",
      "[2.] [203.51066654]\n",
      "[3.] [242.48815643]\n",
      "[5.3] [332.13638318]\n",
      "[4.8] [312.64763824]\n",
      "[5.] [320.44313622]\n",
      "[5.] [320.44313622]\n",
      "[5.5] [339.93188116]\n",
      "[1.6] [187.91967058]\n",
      "[5.] [320.44313622]\n",
      "MAE :  22.94954067739887\n",
      "MSE :  913.1497578313963\n",
      "R2 :  0.7515657150446324\n"
     ]
    }
   ],
   "source": [
    "prediction = regression.predict(test[[\"ENGINESIZE\"]])\n",
    "for i in range(len(test)):\n",
    "  print(test[[\"ENGINESIZE\"]].values[i], prediction[i])\n",
    "\n",
    "print(\"MAE : \", mean_absolute_error(test[[\"CO2EMISSIONS\"]], prediction))\n",
    "print(\"MSE : \", mean_squared_error(test[[\"CO2EMISSIONS\"]], prediction))\n",
    "print(\"R2 : \", r2_score(test[[\"CO2EMISSIONS\"]], prediction))\n"
   ]
  },
  {
   "cell_type": "markdown",
   "metadata": {
    "colab_type": "text",
    "id": "xARTf0TrkbVQ"
   },
   "source": [
    "# Classification - KNN"
   ]
  },
  {
   "cell_type": "markdown",
   "metadata": {
    "colab_type": "text",
    "id": "X8azUIO8kbVP"
   },
   "source": [
    "Import all required packages"
   ]
  },
  {
   "cell_type": "code",
   "execution_count": 0,
   "metadata": {
    "colab": {},
    "colab_type": "code",
    "id": "6Krl6eDFkbVL"
   },
   "outputs": [],
   "source": [
    "import pandas as pd\n",
    "import numpy as np\n",
    "from sklearn.neighbors import KNeighborsClassifier\n",
    "from sklearn.metrics import accuracy_score, mean_squared_error, mean_absolute_error\n",
    "from sklearn import preprocessing\n",
    "from sklearn.model_selection import train_test_split\n"
   ]
  },
  {
   "cell_type": "markdown",
   "metadata": {
    "colab_type": "text",
    "id": "2inrtxnikbVJ"
   },
   "source": [
    "Load & profile the data"
   ]
  },
  {
   "cell_type": "code",
   "execution_count": null,
   "metadata": {},
   "outputs": [],
   "source": [
    "!wget https://raw.githubusercontent.com/andrychowanda/COMP6577/master/titanic_train.csv"
   ]
  },
  {
   "cell_type": "code",
   "execution_count": 99,
   "metadata": {
    "colab": {
     "base_uri": "https://localhost:8080/",
     "height": 272
    },
    "colab_type": "code",
    "id": "xkXaYL02kbVA",
    "outputId": "ead7f937-7833-4310-ab70-5d5b85a7e8e4"
   },
   "outputs": [
    {
     "name": "stdout",
     "output_type": "stream",
     "text": [
      "passenger_id int64\n",
      "pclass int64\n",
      "name object\n",
      "sex object\n",
      "age float64\n",
      "sibsp int64\n",
      "parch int64\n",
      "ticket object\n",
      "fare float64\n",
      "cabin object\n",
      "embarked object\n",
      "boat object\n",
      "body float64\n",
      "home.dest object\n",
      "survived int64\n"
     ]
    }
   ],
   "source": [
    "dataTitanic = pd.read_csv(\"titanic_train.csv\")\n",
    "\n",
    "for i in dataTitanic:\n",
    "  print(i, dataTitanic[i].dtypes)\n",
    "  if dataTitanic[i].isna().values.any() and dataTitanic[i].dtypes != object:\n",
    "      dataTitanic[i] = dataTitanic[i].fillna(dataTitanic[i].mean())\n",
    "\n",
    "train, test = train_test_split(dataTitanic, test_size=0.2)\n"
   ]
  },
  {
   "cell_type": "markdown",
   "metadata": {
    "colab_type": "text",
    "id": "GC1s7r5ulcxD"
   },
   "source": [
    "Training Proces"
   ]
  },
  {
   "cell_type": "code",
   "execution_count": 0,
   "metadata": {
    "colab": {},
    "colab_type": "code",
    "id": "sEvFAnZulfwX"
   },
   "outputs": [],
   "source": [
    "KNN = KNeighborsClassifier(n_neighbors = 3).fit(train[[\"age\", \"fare\"]], train[\"survived\"])"
   ]
  },
  {
   "cell_type": "markdown",
   "metadata": {
    "colab_type": "text",
    "id": "lMxr70hCsjkU"
   },
   "source": [
    "Clasify new data & evaluate the model"
   ]
  },
  {
   "cell_type": "code",
   "execution_count": 101,
   "metadata": {
    "colab": {
     "base_uri": "https://localhost:8080/",
     "height": 85
    },
    "colab_type": "code",
    "id": "mpetPZczsrZ-",
    "outputId": "519b2f8b-a4f9-4fcb-fedd-b39b2feac079"
   },
   "outputs": [
    {
     "name": "stdout",
     "output_type": "stream",
     "text": [
      "[0 1]\n",
      " ACC : 0.65\n",
      " MAE : 0.35\n",
      " MSE : 0.35\n"
     ]
    }
   ],
   "source": [
    "newClassification = KNN.predict([[17,8],[8,10]])\n",
    "print(newClassification)\n",
    "\n",
    "classification = KNN.predict(test[[\"age\", \"fare\"]])\n",
    "accuracy = accuracy_score(test[\"survived\"], classification)\n",
    "MAE = mean_absolute_error(test[\"survived\"], classification)\n",
    "MSE = mean_squared_error(test[\"survived\"], classification)\n",
    "\n",
    "print(\" ACC : %.2f\" % accuracy)\n",
    "print(\" MAE : %.2f\" % MAE)\n",
    "print(\" MSE : %.2f\" % MSE)\n"
   ]
  },
  {
   "cell_type": "markdown",
   "metadata": {
    "colab_type": "text",
    "id": "lsQ4kf5lw6A-"
   },
   "source": [
    "Identify the best K"
   ]
  },
  {
   "cell_type": "code",
   "execution_count": 102,
   "metadata": {
    "colab": {
     "base_uri": "https://localhost:8080/",
     "height": 34
    },
    "colab_type": "code",
    "id": "waFnuxjFw9E_",
    "outputId": "17b78e5a-d60d-45a0-834c-b10a469289eb"
   },
   "outputs": [
    {
     "name": "stdout",
     "output_type": "stream",
     "text": [
      "Best  ACC : 0.71 , with k =  9\n"
     ]
    }
   ],
   "source": [
    "Ks = 10\n",
    "accuracy = np.zeros((Ks-1))\n",
    "ConfustionMx = [];\n",
    "for n in range(1, Ks):    \n",
    "    KNN = KNeighborsClassifier(n_neighbors = n).fit(train[[\"age\", \"fare\"]], train[\"survived\"])  \n",
    "    classification = KNN.predict(test[[\"age\", \"fare\"]])\n",
    "    accuracy[n - 1] = accuracy_score(test[\"survived\"], classification)\n",
    "    \n",
    "print(\"Best  ACC : %.2f\" % accuracy.max(), \", with k = \", accuracy.argmax() + 1)\n"
   ]
  },
  {
   "cell_type": "markdown",
   "metadata": {
    "colab_type": "text",
    "id": "4VPjAOPCVM0P"
   },
   "source": [
    "# Classification - Logistic Regression"
   ]
  },
  {
   "cell_type": "markdown",
   "metadata": {
    "colab_type": "text",
    "id": "HQzlIhR8VM0Q"
   },
   "source": [
    "Use the same process of Import all required packages and Load & profile the data with Classification - KNN Section above. With an addition of sklearn.linear_models (Logistic) and some metrics from sklearn.metrics packages"
   ]
  },
  {
   "cell_type": "code",
   "execution_count": 0,
   "metadata": {
    "colab": {},
    "colab_type": "code",
    "id": "7lGlgD5PVM0Q"
   },
   "outputs": [],
   "source": [
    "from sklearn.linear_model import LogisticRegression\n",
    "from sklearn.metrics import classification_report, confusion_matrix, f1_score"
   ]
  },
  {
   "cell_type": "markdown",
   "metadata": {
    "colab_type": "text",
    "id": "aFl4bXJbVM0S"
   },
   "source": [
    "Train with Logistic Regression"
   ]
  },
  {
   "cell_type": "code",
   "execution_count": 0,
   "metadata": {
    "colab": {},
    "colab_type": "code",
    "id": "_zTvLCyTVM0S"
   },
   "outputs": [],
   "source": [
    "LGR = LogisticRegression(C = 0.01, solver = 'liblinear').fit(train[[\"age\", \"fare\"]], train[\"survived\"]) "
   ]
  },
  {
   "cell_type": "markdown",
   "metadata": {
    "colab_type": "text",
    "id": "G2tLbTlNVM0V"
   },
   "source": [
    "Clasify new data & evaluate the model (plus F1 and classification report)"
   ]
  },
  {
   "cell_type": "code",
   "execution_count": 105,
   "metadata": {
    "colab": {
     "base_uri": "https://localhost:8080/",
     "height": 289
    },
    "colab_type": "code",
    "id": "Y_wq00FhVM0V",
    "outputId": "6412415e-af75-43a9-ecc6-27e6cb191f62"
   },
   "outputs": [
    {
     "name": "stdout",
     "output_type": "stream",
     "text": [
      "[0 0]\n",
      " ACC : 0.69\n",
      " MAE : 0.31\n",
      " MSE : 0.31\n",
      " F1  : 0.65\n",
      "              precision    recall  f1-score   support\n",
      "\n",
      "           0       0.69      0.94      0.80       109\n",
      "           1       0.70      0.26      0.38        61\n",
      "\n",
      "    accuracy                           0.69       170\n",
      "   macro avg       0.69      0.60      0.59       170\n",
      "weighted avg       0.69      0.69      0.65       170\n",
      "\n",
      "[[102   7]\n",
      " [ 45  16]]\n"
     ]
    }
   ],
   "source": [
    "newClassification = LGR.predict([[17,8],[8,10]])\n",
    "print(newClassification)\n",
    "\n",
    "classification = LGR.predict(test[[\"age\", \"fare\"]])\n",
    "accuracy = accuracy_score(test[\"survived\"], classification)\n",
    "MAE = mean_absolute_error(test[\"survived\"], classification)\n",
    "MSE = mean_squared_error(test[\"survived\"], classification)\n",
    "F1  = f1_score(test[\"survived\"], classification, average='weighted') \n",
    "cnf_matrix = confusion_matrix(test[\"survived\"], classification, labels=[0,1])\n",
    "\n",
    "\n",
    "print(\" ACC : %.2f\" % accuracy)\n",
    "print(\" MAE : %.2f\" % MAE)\n",
    "print(\" MSE : %.2f\" % MSE)\n",
    "print(\" F1  : %.2f\" % F1)\n",
    "print (classification_report(test[\"survived\"], classification))\n",
    "print(cnf_matrix)"
   ]
  },
  {
   "cell_type": "markdown",
   "metadata": {
    "colab_type": "text",
    "id": "0b4FKOW1VM0Y"
   },
   "source": [
    "Probability each class"
   ]
  },
  {
   "cell_type": "code",
   "execution_count": 106,
   "metadata": {
    "colab": {
     "base_uri": "https://localhost:8080/",
     "height": 1000
    },
    "colab_type": "code",
    "id": "-c8blgQRVM0Y",
    "outputId": "809a6a14-c397-4f8e-b3a8-71d0eef4afb6"
   },
   "outputs": [
    {
     "name": "stdout",
     "output_type": "stream",
     "text": [
      "[[0.69007147 0.30992853]\n",
      " [0.69170772 0.30829228]\n",
      " [0.54208107 0.45791893]\n",
      " [0.43746036 0.56253964]\n",
      " [0.65844147 0.34155853]\n",
      " [0.46460229 0.53539771]\n",
      " [0.72289824 0.27710176]\n",
      " [0.71649002 0.28350998]\n",
      " [0.60637022 0.39362978]\n",
      " [0.70378062 0.29621938]\n",
      " [0.63095271 0.36904729]\n",
      " [0.7164184  0.2835816 ]\n",
      " [0.61834738 0.38165262]\n",
      " [0.52140729 0.47859271]\n",
      " [0.66904708 0.33095292]\n",
      " [0.72305135 0.27694865]\n",
      " [0.57430777 0.42569223]\n",
      " [0.69007147 0.30992853]\n",
      " [0.42018466 0.57981534]\n",
      " [0.64991475 0.35008525]\n",
      " [0.75712645 0.24287355]\n",
      " [0.50003476 0.49996524]\n",
      " [0.67323782 0.32676218]\n",
      " [0.68579719 0.31420281]\n",
      " [0.69007147 0.30992853]\n",
      " [0.59896215 0.40103785]\n",
      " [0.68693549 0.31306451]\n",
      " [0.69007147 0.30992853]\n",
      " [0.72881569 0.27118431]\n",
      " [0.86815741 0.13184259]\n",
      " [0.68077662 0.31922338]\n",
      " [0.68987553 0.31012447]\n",
      " [0.67693737 0.32306263]\n",
      " [0.70269272 0.29730728]\n",
      " [0.74197572 0.25802428]\n",
      " [0.47512368 0.52487632]\n",
      " [0.52171805 0.47828195]\n",
      " [0.55573426 0.44426574]\n",
      " [0.64176081 0.35823919]\n",
      " [0.6897107  0.3102893 ]\n",
      " [0.60937906 0.39062094]\n",
      " [0.6893289  0.3106711 ]\n",
      " [0.66904708 0.33095292]\n",
      " [0.69783932 0.30216068]\n",
      " [0.435595   0.564405  ]\n",
      " [0.56315224 0.43684776]\n",
      " [0.44914166 0.55085834]\n",
      " [0.64540449 0.35459551]\n",
      " [0.72170731 0.27829269]\n",
      " [0.70334113 0.29665887]\n",
      " [0.84205334 0.15794666]\n",
      " [0.26728408 0.73271592]\n",
      " [0.71514607 0.28485393]\n",
      " [0.72987594 0.27012406]\n",
      " [0.64353008 0.35646992]\n",
      " [0.69330871 0.30669129]\n",
      " [0.69007147 0.30992853]\n",
      " [0.46599474 0.53400526]\n",
      " [0.71933141 0.28066859]\n",
      " [0.62984375 0.37015625]\n",
      " [0.6558356  0.3441644 ]\n",
      " [0.6540605  0.3459395 ]\n",
      " [0.8033828  0.1966172 ]\n",
      " [0.73044563 0.26955437]\n",
      " [0.66291855 0.33708145]\n",
      " [0.7150113  0.2849887 ]\n",
      " [0.6823779  0.3176221 ]\n",
      " [0.63175512 0.36824488]\n",
      " [0.51892223 0.48107777]\n",
      " [0.57166876 0.42833124]\n",
      " [0.63106013 0.36893987]\n",
      " [0.63086946 0.36913054]\n",
      " [0.5557006  0.4442994 ]\n",
      " [0.69012292 0.30987708]\n",
      " [0.32857595 0.67142405]\n",
      " [0.68874637 0.31125363]\n",
      " [0.48632222 0.51367778]\n",
      " [0.5472773  0.4527227 ]\n",
      " [0.58387199 0.41612801]\n",
      " [0.47060504 0.52939496]\n",
      " [0.79602962 0.20397038]\n",
      " [0.60550606 0.39449394]\n",
      " [0.65187591 0.34812409]\n",
      " [0.66416363 0.33583637]\n",
      " [0.81955084 0.18044916]\n",
      " [0.69135826 0.30864174]\n",
      " [0.76477649 0.23522351]\n",
      " [0.69007147 0.30992853]\n",
      " [0.52140729 0.47859271]\n",
      " [0.69037021 0.30962979]\n",
      " [0.62517146 0.37482854]\n",
      " [0.65728095 0.34271905]\n",
      " [0.69877206 0.30122794]\n",
      " [0.67160301 0.32839699]\n",
      " [0.08475556 0.91524444]\n",
      " [0.73666202 0.26333798]\n",
      " [0.50597651 0.49402349]\n",
      " [0.78108683 0.21891317]\n",
      " [0.4555966  0.5444034 ]\n",
      " [0.62712412 0.37287588]\n",
      " [0.69135826 0.30864174]\n",
      " [0.69007147 0.30992853]\n",
      " [0.8737962  0.1262038 ]\n",
      " [0.68831668 0.31168332]\n",
      " [0.6688781  0.3311219 ]\n",
      " [0.67332503 0.32667497]\n",
      " [0.6524653  0.3475347 ]\n",
      " [0.69007147 0.30992853]\n",
      " [0.79139013 0.20860987]\n",
      " [0.49070867 0.50929133]\n",
      " [0.61473885 0.38526115]\n",
      " [0.73127852 0.26872148]\n",
      " [0.6623554  0.3376446 ]\n",
      " [0.6897107  0.3102893 ]\n",
      " [0.65398613 0.34601387]\n",
      " [0.6893289  0.3106711 ]\n",
      " [0.7602506  0.2397494 ]\n",
      " [0.51457068 0.48542932]\n",
      " [0.68532607 0.31467393]\n",
      " [0.47000548 0.52999452]\n",
      " [0.42088364 0.57911636]\n",
      " [0.63212739 0.36787261]\n",
      " [0.71471661 0.28528339]\n",
      " [0.63106013 0.36893987]\n",
      " [0.65460649 0.34539351]\n",
      " [0.71471661 0.28528339]\n",
      " [0.73126799 0.26873201]\n",
      " [0.48012086 0.51987914]\n",
      " [0.63766768 0.36233232]\n",
      " [0.72072934 0.27927066]\n",
      " [0.52140729 0.47859271]\n",
      " [0.60758759 0.39241241]\n",
      " [0.61759649 0.38240351]\n",
      " [0.38151355 0.61848645]\n",
      " [0.62183276 0.37816724]\n",
      " [0.64044968 0.35955032]\n",
      " [0.66410355 0.33589645]\n",
      " [0.69135826 0.30864174]\n",
      " [0.65048737 0.34951263]\n",
      " [0.6893289  0.3106711 ]\n",
      " [0.65010104 0.34989896]\n",
      " [0.59316862 0.40683138]\n",
      " [0.69056598 0.30943402]\n",
      " [0.27370009 0.72629991]\n",
      " [0.6897107  0.3102893 ]\n",
      " [0.73890623 0.26109377]\n",
      " [0.6897107  0.3102893 ]\n",
      " [0.62379283 0.37620717]\n",
      " [0.68999924 0.31000076]\n",
      " [0.57427706 0.42572294]\n",
      " [0.16443765 0.83556235]\n",
      " [0.70302657 0.29697343]\n",
      " [0.62765563 0.37234437]\n",
      " [0.46649352 0.53350648]\n",
      " [0.48997341 0.51002659]\n",
      " [0.64390725 0.35609275]\n",
      " [0.65652362 0.34347638]\n",
      " [0.51165497 0.48834503]\n",
      " [0.66856858 0.33143142]\n",
      " [0.62712412 0.37287588]\n",
      " [0.6641528  0.3358472 ]\n",
      " [0.68367923 0.31632077]\n",
      " [0.44265096 0.55734904]\n",
      " [0.6446362  0.3553638 ]\n",
      " [0.55029231 0.44970769]\n",
      " [0.67570726 0.32429274]\n",
      " [0.6432841  0.3567159 ]\n",
      " [0.55889162 0.44110838]\n",
      " [0.65778441 0.34221559]\n",
      " [0.61592204 0.38407796]]\n"
     ]
    }
   ],
   "source": [
    "classificationProb = LGR.predict_proba(test[[\"age\", \"fare\"]])\n",
    "print(classificationProb)"
   ]
  },
  {
   "cell_type": "markdown",
   "metadata": {
    "colab_type": "text",
    "id": "Lbt3_B6YVM0b"
   },
   "source": [
    "# Classification - Decision Tree"
   ]
  },
  {
   "cell_type": "markdown",
   "metadata": {
    "colab_type": "text",
    "id": "VoAbANaDVM0b"
   },
   "source": [
    "Use the same process of Import all required packages and Load & profile the data with Classification - KNN Section above. With an addition of sklearn.tree (DecisionTree)"
   ]
  },
  {
   "cell_type": "code",
   "execution_count": 0,
   "metadata": {
    "colab": {},
    "colab_type": "code",
    "id": "5c9_HlOWVM0b"
   },
   "outputs": [],
   "source": [
    "from sklearn.tree import DecisionTreeClassifier"
   ]
  },
  {
   "cell_type": "markdown",
   "metadata": {
    "colab_type": "text",
    "id": "5UpHpLZQVM0d"
   },
   "source": [
    "Training Process"
   ]
  },
  {
   "cell_type": "code",
   "execution_count": 0,
   "metadata": {
    "colab": {},
    "colab_type": "code",
    "id": "woXFgj8YVM0d"
   },
   "outputs": [],
   "source": [
    "DST = DecisionTreeClassifier(criterion=\"gini\", max_depth = 10).fit(train[[\"age\", \"fare\"]], train[\"survived\"]) "
   ]
  },
  {
   "cell_type": "markdown",
   "metadata": {
    "colab_type": "text",
    "id": "N2yhtT-1VM0g"
   },
   "source": [
    "Clasify new data & evaluate the model"
   ]
  },
  {
   "cell_type": "code",
   "execution_count": 109,
   "metadata": {
    "colab": {
     "base_uri": "https://localhost:8080/",
     "height": 289
    },
    "colab_type": "code",
    "id": "iUzv81I0VM0g",
    "outputId": "5ce54aca-8b8e-4723-ada9-fc0701147c59"
   },
   "outputs": [
    {
     "name": "stdout",
     "output_type": "stream",
     "text": [
      "[0 0]\n",
      " ACC : 0.65\n",
      " MAE : 0.35\n",
      " MSE : 0.35\n",
      " F1  : 0.65\n",
      "              precision    recall  f1-score   support\n",
      "\n",
      "           0       0.73      0.73      0.73       109\n",
      "           1       0.52      0.51      0.51        61\n",
      "\n",
      "    accuracy                           0.65       170\n",
      "   macro avg       0.62      0.62      0.62       170\n",
      "weighted avg       0.65      0.65      0.65       170\n",
      "\n",
      "[[80 29]\n",
      " [30 31]]\n"
     ]
    }
   ],
   "source": [
    "newClassification = DST.predict([[17,8],[8,10]])\n",
    "print(newClassification)\n",
    "\n",
    "classification = DST.predict(test[[\"age\", \"fare\"]])\n",
    "accuracy = accuracy_score(test[\"survived\"], classification)\n",
    "MAE = mean_absolute_error(test[\"survived\"], classification)\n",
    "MSE = mean_squared_error(test[\"survived\"], classification)\n",
    "F1  = f1_score(test[\"survived\"], classification, average='weighted') \n",
    "cnf_matrix = confusion_matrix(test[\"survived\"], classification, labels=[0,1])\n",
    "\n",
    "\n",
    "print(\" ACC : %.2f\" % accuracy)\n",
    "print(\" MAE : %.2f\" % MAE)\n",
    "print(\" MSE : %.2f\" % MSE)\n",
    "print(\" F1  : %.2f\" % F1)\n",
    "print (classification_report(test[\"survived\"], classification))\n",
    "print(cnf_matrix)"
   ]
  },
  {
   "cell_type": "markdown",
   "metadata": {
    "colab_type": "text",
    "id": "ypLpQvFsVM0i"
   },
   "source": [
    "# Classification - SVM"
   ]
  },
  {
   "cell_type": "markdown",
   "metadata": {
    "colab_type": "text",
    "id": "w9fkun87VM0i"
   },
   "source": [
    "Use the same process of Import all required packages and Load & profile the data with Classification - KNN Section above. With an addition of sklearn.svm"
   ]
  },
  {
   "cell_type": "code",
   "execution_count": 0,
   "metadata": {
    "colab": {},
    "colab_type": "code",
    "id": "_zQ5hRt4VM0j"
   },
   "outputs": [],
   "source": [
    "from sklearn import svm"
   ]
  },
  {
   "cell_type": "markdown",
   "metadata": {
    "colab_type": "text",
    "id": "EndiNDDzVM0k"
   },
   "source": [
    "Training Process"
   ]
  },
  {
   "cell_type": "code",
   "execution_count": 0,
   "metadata": {
    "colab": {},
    "colab_type": "code",
    "id": "al0l7zB7VM0l"
   },
   "outputs": [],
   "source": [
    "SVM = svm.SVC().fit(train[[\"age\", \"fare\"]], train[\"survived\"]) "
   ]
  },
  {
   "cell_type": "markdown",
   "metadata": {
    "colab_type": "text",
    "id": "R27UkuS-VM0n"
   },
   "source": [
    "Clasify new data & evaluate the model"
   ]
  },
  {
   "cell_type": "code",
   "execution_count": 112,
   "metadata": {
    "colab": {
     "base_uri": "https://localhost:8080/",
     "height": 289
    },
    "colab_type": "code",
    "id": "3xjAhzDOVM0o",
    "outputId": "9f2872cd-85a0-4bde-dfc3-99000b6cc4d8"
   },
   "outputs": [
    {
     "name": "stdout",
     "output_type": "stream",
     "text": [
      "[0 0]\n",
      " ACC : 0.72\n",
      " MAE : 0.28\n",
      " MSE : 0.28\n",
      " F1  : 0.68\n",
      "              precision    recall  f1-score   support\n",
      "\n",
      "           0       0.71      0.96      0.82       109\n",
      "           1       0.82      0.30      0.43        61\n",
      "\n",
      "    accuracy                           0.72       170\n",
      "   macro avg       0.76      0.63      0.63       170\n",
      "weighted avg       0.75      0.72      0.68       170\n",
      "\n",
      "[[105   4]\n",
      " [ 43  18]]\n"
     ]
    }
   ],
   "source": [
    "newClassification = SVM.predict([[17,8],[8,10]])\n",
    "print(newClassification)\n",
    "\n",
    "classification = SVM.predict(test[[\"age\", \"fare\"]])\n",
    "accuracy = accuracy_score(test[\"survived\"], classification)\n",
    "MAE = mean_absolute_error(test[\"survived\"], classification)\n",
    "MSE = mean_squared_error(test[\"survived\"], classification)\n",
    "F1  = f1_score(test[\"survived\"], classification, average='weighted') \n",
    "cnf_matrix = confusion_matrix(test[\"survived\"], classification, labels=[0,1])\n",
    "\n",
    "\n",
    "print(\" ACC : %.2f\" % accuracy)\n",
    "print(\" MAE : %.2f\" % MAE)\n",
    "print(\" MSE : %.2f\" % MSE)\n",
    "print(\" F1  : %.2f\" % F1)\n",
    "print (classification_report(test[\"survived\"], classification))\n",
    "print(cnf_matrix)"
   ]
  },
  {
   "cell_type": "markdown",
   "metadata": {
    "colab_type": "text",
    "id": "haUBJ33iVM0q"
   },
   "source": [
    "# Classification - Additional Material"
   ]
  },
  {
   "cell_type": "markdown",
   "metadata": {
    "colab_type": "text",
    "id": "VroAJiy-VM0q"
   },
   "source": [
    "Import required packages"
   ]
  },
  {
   "cell_type": "code",
   "execution_count": 0,
   "metadata": {
    "colab": {},
    "colab_type": "code",
    "id": "13Km5rV0VM0r"
   },
   "outputs": [],
   "source": [
    "import pandas as pd\n",
    "import numpy as np\n",
    "from sklearn import svm, preprocessing\n",
    "from sklearn.metrics import accuracy_score, mean_squared_error, mean_absolute_error, classification_report, confusion_matrix, f1_score\n",
    "from sklearn.model_selection import train_test_split"
   ]
  },
  {
   "cell_type": "markdown",
   "metadata": {
    "colab_type": "text",
    "id": "6VfFLnoYVM0t"
   },
   "source": [
    "Pre-processing"
   ]
  },
  {
   "cell_type": "code",
   "execution_count": 114,
   "metadata": {
    "colab": {
     "base_uri": "https://localhost:8080/",
     "height": 272
    },
    "colab_type": "code",
    "id": "GBIdRTZpVM0t",
    "outputId": "4d972a80-afcd-46e9-9e6c-b93cd5d27217"
   },
   "outputs": [
    {
     "name": "stdout",
     "output_type": "stream",
     "text": [
      "passenger_id int64\n",
      "pclass int64\n",
      "name object\n",
      "sex object\n",
      "age float64\n",
      "sibsp int64\n",
      "parch int64\n",
      "ticket object\n",
      "fare float64\n",
      "cabin object\n",
      "embarked object\n",
      "boat object\n",
      "body float64\n",
      "home.dest object\n",
      "survived int64\n"
     ]
    }
   ],
   "source": [
    "dataTitanic = pd.read_csv(\"titanic_train.csv\")\n",
    "\n",
    "for i in dataTitanic:\n",
    "  print(i, dataTitanic[i].dtypes)\n",
    "  if dataTitanic[i].isna().values.any() and dataTitanic[i].dtypes != object:\n",
    "      dataTitanic[i] = dataTitanic[i].fillna(dataTitanic[i].mean())\n",
    "\n"
   ]
  },
  {
   "cell_type": "markdown",
   "metadata": {
    "colab_type": "text",
    "id": "EYVMnT7rVM0w"
   },
   "source": [
    "Preprocess - encode non real values"
   ]
  },
  {
   "cell_type": "code",
   "execution_count": 0,
   "metadata": {
    "colab": {},
    "colab_type": "code",
    "id": "PxRHVdbSVM0w"
   },
   "outputs": [],
   "source": [
    "X = dataTitanic[[\"age\", \"fare\", \"sex\"]].values\n",
    "encode = preprocessing.LabelEncoder().fit(['male','female'])\n",
    "X[:,2] = encode.transform(X[:,2]) \n",
    "Y = dataTitanic[\"survived\"]\n",
    "\n",
    "XTrain, XTest, YTrain, YTest = train_test_split(X,Y, test_size=0.2)"
   ]
  },
  {
   "cell_type": "markdown",
   "metadata": {
    "colab_type": "text",
    "id": "yZAo5WSWVM0y"
   },
   "source": [
    "Clasify new data & evaluate the model - SVM"
   ]
  },
  {
   "cell_type": "code",
   "execution_count": 116,
   "metadata": {
    "colab": {
     "base_uri": "https://localhost:8080/",
     "height": 289
    },
    "colab_type": "code",
    "id": "tYZVpEoeVM0y",
    "outputId": "07369b58-63c4-4c20-95f4-5df0159728a0"
   },
   "outputs": [
    {
     "name": "stdout",
     "output_type": "stream",
     "text": [
      "[0 0]\n",
      " ACC : 0.66\n",
      " MAE : 0.34\n",
      " MSE : 0.34\n",
      " F1  : 0.62\n",
      "              precision    recall  f1-score   support\n",
      "\n",
      "           0       0.68      0.89      0.77       108\n",
      "           1       0.57      0.26      0.36        62\n",
      "\n",
      "    accuracy                           0.66       170\n",
      "   macro avg       0.62      0.57      0.56       170\n",
      "weighted avg       0.64      0.66      0.62       170\n",
      "\n",
      "[[96 12]\n",
      " [46 16]]\n"
     ]
    }
   ],
   "source": [
    "SVM = svm.SVC().fit(XTrain, YTrain) \n",
    "newClassification = SVM.predict([[17,8,1],[8,10,0]])\n",
    "print(newClassification)\n",
    "\n",
    "classification = SVM.predict(XTest)\n",
    "accuracy = accuracy_score(YTest, classification)\n",
    "MAE = mean_absolute_error(YTest, classification)\n",
    "MSE = mean_squared_error(YTest, classification)\n",
    "F1  = f1_score(YTest, classification, average='weighted') \n",
    "cnf_matrix = confusion_matrix(YTest, classification, labels=[0,1])\n",
    "\n",
    "\n",
    "print(\" ACC : %.2f\" % accuracy)\n",
    "print(\" MAE : %.2f\" % MAE)\n",
    "print(\" MSE : %.2f\" % MSE)\n",
    "print(\" F1  : %.2f\" % F1)\n",
    "print (classification_report(YTest, classification))\n",
    "print(cnf_matrix)"
   ]
  },
  {
   "cell_type": "markdown",
   "metadata": {
    "colab_type": "text",
    "id": "Yz5958AmVM00"
   },
   "source": [
    "Clasify new data & evaluate the model - Decision Tree"
   ]
  },
  {
   "cell_type": "code",
   "execution_count": 117,
   "metadata": {
    "colab": {
     "base_uri": "https://localhost:8080/",
     "height": 289
    },
    "colab_type": "code",
    "id": "d_YXaqNZVM00",
    "outputId": "f376a9cd-f2a8-4a0c-9f25-45587ebc1b61"
   },
   "outputs": [
    {
     "name": "stdout",
     "output_type": "stream",
     "text": [
      "[0 0]\n",
      " ACC : 0.71\n",
      " MAE : 0.29\n",
      " MSE : 0.29\n",
      " F1  : 0.72\n",
      "              precision    recall  f1-score   support\n",
      "\n",
      "           0       0.80      0.72      0.76       108\n",
      "           1       0.59      0.69      0.64        62\n",
      "\n",
      "    accuracy                           0.71       170\n",
      "   macro avg       0.70      0.71      0.70       170\n",
      "weighted avg       0.73      0.71      0.72       170\n",
      "\n",
      "[[78 30]\n",
      " [19 43]]\n"
     ]
    }
   ],
   "source": [
    "DST = DecisionTreeClassifier(criterion=\"gini\", max_depth = 10).fit(XTrain, YTrain) \n",
    "newClassification = SVM.predict([[17,8,1],[8,10,0]])\n",
    "print(newClassification)\n",
    "\n",
    "classification = DST.predict(XTest)\n",
    "accuracy = accuracy_score(YTest, classification)\n",
    "MAE = mean_absolute_error(YTest, classification)\n",
    "MSE = mean_squared_error(YTest, classification)\n",
    "F1  = f1_score(YTest, classification, average='weighted') \n",
    "cnf_matrix = confusion_matrix(YTest, classification, labels=[0,1])\n",
    "\n",
    "\n",
    "print(\" ACC : %.2f\" % accuracy)\n",
    "print(\" MAE : %.2f\" % MAE)\n",
    "print(\" MSE : %.2f\" % MSE)\n",
    "print(\" F1  : %.2f\" % F1)\n",
    "print (classification_report(YTest, classification))\n",
    "print(cnf_matrix)"
   ]
  }
 ],
 "metadata": {
  "colab": {
   "collapsed_sections": [
    "fgjQzo6KNAAB",
    "xARTf0TrkbVQ",
    "4VPjAOPCVM0P",
    "Lbt3_B6YVM0b",
    "ypLpQvFsVM0i",
    "haUBJ33iVM0q"
   ],
   "name": "COMP6577-3.ipynb",
   "provenance": []
  },
  "kernelspec": {
   "display_name": "Python 3",
   "language": "python",
   "name": "python3"
  },
  "language_info": {
   "codemirror_mode": {
    "name": "ipython",
    "version": 3
   },
   "file_extension": ".py",
   "mimetype": "text/x-python",
   "name": "python",
   "nbconvert_exporter": "python",
   "pygments_lexer": "ipython3",
   "version": "3.8.5"
  }
 },
 "nbformat": 4,
 "nbformat_minor": 1
}
