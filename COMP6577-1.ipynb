{
 "cells": [
  {
   "cell_type": "markdown",
   "metadata": {
    "colab_type": "text",
    "id": "6fI8LmQdWVq-"
   },
   "source": [
    "## DATA FRAME - BASIC\n",
    "[![Open In Colab](https://colab.research.google.com/assets/colab-badge.svg)](https://colab.research.google.com/github/andrychowanda/COMP6577/blob/master/COMP6577-1.ipynb)"
   ]
  },
  {
   "cell_type": "markdown",
   "metadata": {
    "colab_type": "text",
    "id": "5HdB9rttYMw3"
   },
   "source": [
    "Manually Insert Data to Data Frame."
   ]
  },
  {
   "cell_type": "code",
   "execution_count": 1,
   "metadata": {
    "colab": {
     "base_uri": "https://localhost:8080/",
     "height": 85
    },
    "colab_type": "code",
    "id": "wxzt8mThW36B",
    "outputId": "93704ade-b82b-4879-bdee-365acfabb78f"
   },
   "outputs": [
    {
     "name": "stdout",
     "output_type": "stream",
     "text": [
      "     Item Name  Qty  Price\n",
      "0  Ayam Goreng   10  10000\n",
      "1   Mie Goreng    2   5000\n",
      "2        Donat    3   7000\n"
     ]
    }
   ],
   "source": [
    "import pandas as pd\n",
    "D = {\"Item Name\": [\"Ayam Goreng\", \"Mie Goreng\", \"Donat\"], \"Qty\": [10, 2, 3] , \"Price\": [10000, 5000, 7000]}\n",
    "data = pd.DataFrame(D)\n",
    "print(data)"
   ]
  },
  {
   "cell_type": "markdown",
   "metadata": {
    "colab_type": "text",
    "id": "45LNmPGraAvr"
   },
   "source": [
    "Insert new column to the Data Frame"
   ]
  },
  {
   "cell_type": "code",
   "execution_count": 2,
   "metadata": {
    "colab": {
     "base_uri": "https://localhost:8080/",
     "height": 173
    },
    "colab_type": "code",
    "id": "kJwh_2_dY2p1",
    "outputId": "506fd1f0-38f5-453d-f176-049abb5608a0"
   },
   "outputs": [
    {
     "name": "stdout",
     "output_type": "stream",
     "text": [
      "     Item Name  Qty  Price  TotalPrice1  TotalPrice2\n",
      "0  Ayam Goreng   10  10000       100000       100000\n",
      "1   Mie Goreng    2   5000        10000        10000\n",
      "2        Donat    3   7000        21000        21000\n"
     ]
    },
    {
     "name": "stderr",
     "output_type": "stream",
     "text": [
      "<ipython-input-2-6aac98580571>:1: DeprecationWarning: The default dtype for empty Series will be 'object' instead of 'float64' in a future version. Specify a dtype explicitly to silence this warning.\n",
      "  totalPrice1 = pd.Series([])\n",
      "<ipython-input-2-6aac98580571>:2: DeprecationWarning: The default dtype for empty Series will be 'object' instead of 'float64' in a future version. Specify a dtype explicitly to silence this warning.\n",
      "  totalPrice2 = pd.Series([])\n"
     ]
    }
   ],
   "source": [
    "totalPrice1 = pd.Series([])\n",
    "totalPrice2 = pd.Series([])\n",
    "\n",
    "for i in range(len(data)):\n",
    "  totalPrice1[i] = data[\"Qty\"][i] * data[\"Price\"][i] \n",
    "\n",
    "totalPrice2 = data[\"Qty\"] * data[\"Price\"]\n",
    "\n",
    "data.insert(3, \"TotalPrice1\", totalPrice1)\n",
    "data.insert(4, \"TotalPrice2\", totalPrice2)\n",
    "print(data)"
   ]
  },
  {
   "cell_type": "markdown",
   "metadata": {
    "colab_type": "text",
    "id": "2X2FBoTyaC_3"
   },
   "source": [
    "Get the statistics of the data from the Data Frame"
   ]
  },
  {
   "cell_type": "code",
   "execution_count": 3,
   "metadata": {
    "colab": {
     "base_uri": "https://localhost:8080/",
     "height": 867
    },
    "colab_type": "code",
    "id": "zBYB-u5ialLd",
    "outputId": "bbe089c0-e612-4462-dbed-b4d15a2202a3"
   },
   "outputs": [
    {
     "name": "stdout",
     "output_type": "stream",
     "text": [
      "- Maximum -\n",
      "\n",
      "All data: \n",
      " Item Name      Mie Goreng\n",
      "Qty                    10\n",
      "Price               10000\n",
      "TotalPrice1        100000\n",
      "TotalPrice2        100000\n",
      "dtype: object\n",
      "Qty:  10\n",
      "Price:  10000\n",
      "Total Price:  100000\n",
      "\n",
      "- Minimum -\n",
      "\n",
      "All data: \n",
      " Item Name      Ayam Goreng\n",
      "Qty                      2\n",
      "Price                 5000\n",
      "TotalPrice1          10000\n",
      "TotalPrice2          10000\n",
      "dtype: object\n",
      "Qty:  2\n",
      "Price:  5000\n",
      "Total Price:  10000\n",
      "\n",
      "- Average -\n",
      "\n",
      "All data: \n",
      " Qty                5.000000\n",
      "Price           7333.333333\n",
      "TotalPrice1    43666.666667\n",
      "TotalPrice2    43666.666667\n",
      "dtype: float64\n",
      "Qty:  5.0\n",
      "Price:  7333.333333333333\n",
      "Total Price:  43666.666666666664\n",
      "\n",
      "- Summary -\n",
      "\n",
      "All data: \n",
      " Item Name      Ayam GorengMie GorengDonat\n",
      "Qty                                    15\n",
      "Price                               22000\n",
      "TotalPrice1                        131000\n",
      "TotalPrice2                        131000\n",
      "dtype: object\n",
      "Qty:  15\n",
      "Price:  22000\n",
      "Total Price:  131000\n"
     ]
    }
   ],
   "source": [
    "maxValue = data.max()\n",
    "print(\"- Maximum -\\n\")\n",
    "print(\"All data: \\n\", maxValue)\n",
    "print(\"Qty: \", maxValue[\"Qty\"])\n",
    "print(\"Price: \", maxValue[\"Price\"])\n",
    "print(\"Total Price: \", maxValue[\"TotalPrice1\"])\n",
    "\n",
    "minValue = data.min()\n",
    "print(\"\\n- Minimum -\\n\")\n",
    "print(\"All data: \\n\", minValue)\n",
    "print(\"Qty: \", minValue[\"Qty\"])\n",
    "print(\"Price: \", minValue[\"Price\"])\n",
    "print(\"Total Price: \", minValue[\"TotalPrice1\"])\n",
    "\n",
    "avgValue = data.mean()\n",
    "print(\"\\n- Average -\\n\")\n",
    "print(\"All data: \\n\", avgValue)\n",
    "print(\"Qty: \", avgValue[\"Qty\"])\n",
    "print(\"Price: \", avgValue[\"Price\"])\n",
    "print(\"Total Price: \", avgValue[\"TotalPrice1\"])\n",
    "\n",
    "\n",
    "sumValue = data.sum()\n",
    "print(\"\\n- Summary -\\n\")\n",
    "print(\"All data: \\n\", sumValue)\n",
    "print(\"Qty: \", sumValue[\"Qty\"])\n",
    "print(\"Price: \", sumValue[\"Price\"])\n",
    "print(\"Total Price: \", sumValue[\"TotalPrice1\"])\n"
   ]
  },
  {
   "cell_type": "markdown",
   "metadata": {
    "colab_type": "text",
    "id": "zhnnQrPKdDSf"
   },
   "source": [
    "# DATA FRAME - LOAD CSV"
   ]
  },
  {
   "cell_type": "markdown",
   "metadata": {},
   "source": [
    "Download Iris data using `wget` (must be run on linux)"
   ]
  },
  {
   "cell_type": "code",
   "execution_count": null,
   "metadata": {},
   "outputs": [],
   "source": [
    "!wget https://raw.githubusercontent.com/andrychowanda/COMP6577/master/iris.csv"
   ]
  },
  {
   "cell_type": "markdown",
   "metadata": {
    "colab_type": "text",
    "id": "WmGkFm4bdKHc"
   },
   "source": [
    "Load data from Iris.csv"
   ]
  },
  {
   "cell_type": "code",
   "execution_count": 6,
   "metadata": {
    "colab": {
     "base_uri": "https://localhost:8080/",
     "height": 119
    },
    "colab_type": "code",
    "id": "fK1t1o4lemsd",
    "outputId": "fda31953-765c-4845-a528-dd11378808f7"
   },
   "outputs": [
    {
     "name": "stdout",
     "output_type": "stream",
     "text": [
      "   SepalLength  SepalWidth  PetalLength  PetalWidth        Class\n",
      "0          5.1         3.5          1.4         0.2  Iris-setosa\n",
      "1          4.9         3.0          1.4         0.2  Iris-setosa\n",
      "2          4.7         3.2          1.3         0.2  Iris-setosa\n",
      "3          4.6         3.1          1.5         0.2  Iris-setosa\n",
      "4          5.0         3.6          NaN         0.2  Iris-setosa\n"
     ]
    }
   ],
   "source": [
    "import pandas as pd\n",
    "# data tidak ada header\n",
    "irisData = pd.read_csv(\"iris.csv\", names=[\"SepalLength\", \"SepalWidth\", \"PetalLength\",\"PetalWidth\",\"Class\"])\n",
    "# data suda ada header\n",
    "#irisData = pd.read_csv(\"iris.csv\")\n",
    "print(irisData.head())"
   ]
  },
  {
   "cell_type": "markdown",
   "metadata": {
    "colab_type": "text",
    "id": "fldxm3gFi5fU"
   },
   "source": [
    "Play around with NaN"
   ]
  },
  {
   "cell_type": "code",
   "execution_count": 7,
   "metadata": {
    "colab": {
     "base_uri": "https://localhost:8080/",
     "height": 34
    },
    "colab_type": "code",
    "id": "OK-x65U3jWdI",
    "outputId": "a4e331f8-d13a-4892-9a4c-e0893cb5f4cd"
   },
   "outputs": [
    {
     "name": "stdout",
     "output_type": "stream",
     "text": [
      "nan\n"
     ]
    }
   ],
   "source": [
    "print(irisData[\"PetalLength\"][4] + irisData[\"PetalWidth\"][4] )"
   ]
  },
  {
   "cell_type": "markdown",
   "metadata": {
    "colab_type": "text",
    "id": "ikZ1FGkbhSRh"
   },
   "source": [
    "Check if any data is null or NaN\n",
    "\n"
   ]
  },
  {
   "cell_type": "code",
   "execution_count": 12,
   "metadata": {
    "colab": {
     "base_uri": "https://localhost:8080/",
     "height": 357
    },
    "colab_type": "code",
    "id": "M0-l8uLWhX8z",
    "outputId": "4f11f260-0c2b-4bc4-cd79-73ceaa2bedeb"
   },
   "outputs": [
    {
     "name": "stdout",
     "output_type": "stream",
     "text": [
      "     SepalLength  SepalWidth  PetalLength  PetalWidth  Class\n",
      "0          False       False        False       False  False\n",
      "1          False       False        False       False  False\n",
      "2          False       False        False       False  False\n",
      "3          False       False        False       False  False\n",
      "4          False       False         True       False  False\n",
      "..           ...         ...          ...         ...    ...\n",
      "145        False       False        False       False  False\n",
      "146        False       False        False       False  False\n",
      "147        False       False        False        True  False\n",
      "148        False       False        False       False  False\n",
      "149        False       False        False       False  False\n",
      "\n",
      "[150 rows x 5 columns]\n",
      "True\n",
      "SepalLength  :  False\n",
      "SepalWidth  :  False\n",
      "PetalLength  :  True\n",
      "PetalWidth  :  True\n",
      "Class  :  False\n"
     ]
    }
   ],
   "source": [
    "print(irisData.isna())\n",
    "print(irisData.isna().values.any())\n",
    "\n",
    "for i in irisData :\n",
    "  print(i, \" : \", irisData[i].isna().values.any())"
   ]
  },
  {
   "cell_type": "markdown",
   "metadata": {
    "colab_type": "text",
    "id": "2I_nK1BUhZTx"
   },
   "source": [
    "Remove all the NaN Values"
   ]
  },
  {
   "cell_type": "code",
   "execution_count": 13,
   "metadata": {
    "colab": {
     "base_uri": "https://localhost:8080/",
     "height": 34
    },
    "colab_type": "code",
    "id": "4C_uETlkhf2Y",
    "outputId": "4f6b4228-2f34-4db8-8e31-6d4e7ed94cc9"
   },
   "outputs": [
    {
     "name": "stdout",
     "output_type": "stream",
     "text": [
      "146\n"
     ]
    }
   ],
   "source": [
    "irisData = irisData.dropna()\n",
    "print(len(irisData))"
   ]
  },
  {
   "cell_type": "markdown",
   "metadata": {
    "colab_type": "text",
    "id": "4y8SwfXBieXq"
   },
   "source": [
    "Replace all the NaN Values with 0"
   ]
  },
  {
   "cell_type": "code",
   "execution_count": 14,
   "metadata": {
    "colab": {
     "base_uri": "https://localhost:8080/",
     "height": 51
    },
    "colab_type": "code",
    "id": "wEiY5HwIikZa",
    "outputId": "0f89f603-c8d0-4470-9e94-966e62088572"
   },
   "outputs": [
    {
     "name": "stdout",
     "output_type": "stream",
     "text": [
      "False\n",
      "146\n"
     ]
    }
   ],
   "source": [
    "newIrisDataFill = irisData.fillna(0)\n",
    "print(newIrisDataFill.isna().values.any())\n",
    "print(len(newIrisDataFill))"
   ]
  },
  {
   "cell_type": "code",
   "execution_count": 15,
   "metadata": {
    "colab": {
     "base_uri": "https://localhost:8080/",
     "height": 221
    },
    "colab_type": "code",
    "id": "gqA0nuav_Sba",
    "outputId": "27840e77-d249-4143-eeda-7d29636fc308"
   },
   "outputs": [
    {
     "data": {
      "text/plain": [
       "0      1.4\n",
       "1      1.4\n",
       "2      1.3\n",
       "3      1.5\n",
       "5      1.7\n",
       "      ... \n",
       "144    5.7\n",
       "145    5.2\n",
       "146    5.0\n",
       "148    5.4\n",
       "149    5.1\n",
       "Name: PetalLength, Length: 146, dtype: float64"
      ]
     },
     "execution_count": 15,
     "metadata": {
      "tags": []
     },
     "output_type": "execute_result"
    }
   ],
   "source": [
    "meanPetalLength = irisData[\"PetalLength\"].mean()\n",
    "irisData[\"PetalLength\"].fillna(meanPetalLength)"
   ]
  },
  {
   "cell_type": "markdown",
   "metadata": {
    "colab_type": "text",
    "id": "b2EpcfjVm-XJ"
   },
   "source": [
    "# Week 1 Solution"
   ]
  },
  {
   "cell_type": "markdown",
   "metadata": {
    "colab_type": "text",
    "id": "1tbO1EJ441Sv"
   },
   "source": [
    "Replace and Dropped All values with 0"
   ]
  },
  {
   "cell_type": "code",
   "execution_count": 18,
   "metadata": {
    "colab": {
     "base_uri": "https://localhost:8080/",
     "height": 221
    },
    "colab_type": "code",
    "id": "N2LpABLBnRpW",
    "outputId": "2e02a3f2-3fbb-4852-8627-72f88c3dd223"
   },
   "outputs": [
    {
     "name": "stdout",
     "output_type": "stream",
     "text": [
      "      id  ... availability_365\n",
      "0  49091  ...              365\n",
      "1  50646  ...              365\n",
      "2  56334  ...              365\n",
      "3  71609  ...              353\n",
      "4  71896  ...              355\n",
      "\n",
      "[5 rows x 16 columns]\n",
      "True\n",
      "Original Length: 7907\n",
      "Dropped Length: 5148\n",
      "Replaced Length: 7907\n"
     ]
    }
   ],
   "source": [
    "import pandas as pd\n",
    "\n",
    "dataListings = pd.read_csv(\"listings.csv\")\n",
    "print(dataListings.head())\n",
    "\n",
    "print(dataListings.isna().values.any())\n",
    "newDataListingsDrop = dataListings.dropna()\n",
    "newDataListingsFill = dataListings.fillna(0)\n",
    "print(\"Original Length:\", len(dataListings))\n",
    "print(\"Dropped Length:\", len(newDataListingsDrop))\n",
    "print(\"Replaced Length:\", len(newDataListingsFill))\n",
    "\n"
   ]
  },
  {
   "cell_type": "markdown",
   "metadata": {
    "colab_type": "text",
    "id": "CC1sJ6W148yZ"
   },
   "source": [
    "Replaced by the mean of each column"
   ]
  },
  {
   "cell_type": "code",
   "execution_count": 23,
   "metadata": {
    "colab": {
     "base_uri": "https://localhost:8080/",
     "height": 527
    },
    "colab_type": "code",
    "id": "PmiI63Ff5EBn",
    "outputId": "3c2ea23f-ea9f-400d-bb1c-f7b2fffd77fa"
   },
   "outputs": [
    {
     "name": "stdout",
     "output_type": "stream",
     "text": [
      "id False\n",
      "name False\n",
      "host_id False\n",
      "host_name False\n",
      "neighbourhood_group False\n",
      "neighbourhood False\n",
      "latitude False\n",
      "longitude False\n",
      "room_type False\n",
      "price False\n",
      "minimum_nights False\n",
      "number_of_reviews False\n",
      "last_review False\n",
      "reviews_per_month False\n",
      "calculated_host_listings_count False\n",
      "availability_365 False\n",
      "            id  ... availability_365\n",
      "0        49091  ...              365\n",
      "1        50646  ...              365\n",
      "2        56334  ...              365\n",
      "3        71609  ...              353\n",
      "4        71896  ...              355\n",
      "...        ...  ...              ...\n",
      "7902  38105126  ...               61\n",
      "7903  38108273  ...              365\n",
      "7904  38109336  ...              173\n",
      "7905  38110493  ...               30\n",
      "7906  38112762  ...              365\n",
      "\n",
      "[7907 rows x 16 columns]\n"
     ]
    }
   ],
   "source": [
    "for i in dataListings:\n",
    "  print(i, dataListings[i].isna().values.any())\n",
    "\n",
    "newDataListingsFill2 = dataListings\n",
    "for i in dataListings:\n",
    "  if dataListings[i].dtypes == object :\n",
    "    newDataListingsFill2[i] = dataListings[i].fillna(\"Not Available\")\n",
    "  else :\n",
    "    mean = dataListings[i].mean()\n",
    "    newDataListingsFill2[i] = dataListings[i].fillna(mean)\n",
    "\n",
    "print(newDataListingsFill2)\n",
    "\n"
   ]
  },
  {
   "cell_type": "markdown",
   "metadata": {
    "colab_type": "text",
    "id": "Ymw91mhX9wIx"
   },
   "source": [
    "Max, Min, Mean"
   ]
  },
  {
   "cell_type": "code",
   "execution_count": 25,
   "metadata": {
    "colab": {
     "base_uri": "https://localhost:8080/",
     "height": 1000
    },
    "colab_type": "code",
    "id": "aVe6r_SH7IPQ",
    "outputId": "d742c4bb-431e-410a-f577-01931b4fbb08"
   },
   "outputs": [
    {
     "name": "stdout",
     "output_type": "stream",
     "text": [
      "Max value of  id in newDataListingsFill is  38112762\n",
      "Min value of  id in newDataListingsFill is  49091\n",
      "Mean value of  id in newDataListingsFill is  23388624.629568737\n",
      "Max value of  host_id in newDataListingsFill is  288567551\n",
      "Min value of  host_id in newDataListingsFill is  23666\n",
      "Mean value of  host_id in newDataListingsFill is  91144807.40533705\n",
      "Max value of  latitude in newDataListingsFill is  1.45459\n",
      "Min value of  latitude in newDataListingsFill is  1.24387\n",
      "Mean value of  latitude in newDataListingsFill is  1.314192464904513\n",
      "Max value of  longitude in newDataListingsFill is  103.97341999999999\n",
      "Min value of  longitude in newDataListingsFill is  103.64656\n",
      "Mean value of  longitude in newDataListingsFill is  103.84878745794845\n",
      "Max value of  price in newDataListingsFill is  10000\n",
      "Min value of  price in newDataListingsFill is  0\n",
      "Mean value of  price in newDataListingsFill is  169.33299607942328\n",
      "Max value of  minimum_nights in newDataListingsFill is  1000\n",
      "Min value of  minimum_nights in newDataListingsFill is  1\n",
      "Mean value of  minimum_nights in newDataListingsFill is  17.510054382192994\n",
      "Max value of  number_of_reviews in newDataListingsFill is  323\n",
      "Min value of  number_of_reviews in newDataListingsFill is  0\n",
      "Mean value of  number_of_reviews in newDataListingsFill is  12.807385860629822\n",
      "Max value of  reviews_per_month in newDataListingsFill is  13.0\n",
      "Min value of  reviews_per_month in newDataListingsFill is  0.0\n",
      "Mean value of  reviews_per_month in newDataListingsFill is  0.6796319716706684\n",
      "Max value of  calculated_host_listings_count in newDataListingsFill is  274\n",
      "Min value of  calculated_host_listings_count in newDataListingsFill is  1\n",
      "Mean value of  calculated_host_listings_count in newDataListingsFill is  40.60768938914885\n",
      "Max value of  availability_365 in newDataListingsFill is  365\n",
      "Min value of  availability_365 in newDataListingsFill is  0\n",
      "Mean value of  availability_365 in newDataListingsFill is  208.72631845200456\n",
      "Max value of  id in newDataListingsFill2 is  38112762\n",
      "Min value of  id in newDataListingsFill2 is  49091\n",
      "Mean value of  id in newDataListingsFill2 is  23388624.629568737\n",
      "Max value of  host_id in newDataListingsFill2 is  288567551\n",
      "Min value of  host_id in newDataListingsFill2 is  23666\n",
      "Mean value of  host_id in newDataListingsFill2 is  91144807.40533705\n",
      "Max value of  latitude in newDataListingsFill2 is  1.45459\n",
      "Min value of  latitude in newDataListingsFill2 is  1.24387\n",
      "Mean value of  latitude in newDataListingsFill2 is  1.314192464904513\n",
      "Max value of  longitude in newDataListingsFill2 is  103.97341999999999\n",
      "Min value of  longitude in newDataListingsFill2 is  103.64656\n",
      "Mean value of  longitude in newDataListingsFill2 is  103.84878745794845\n",
      "Max value of  price in newDataListingsFill2 is  10000\n",
      "Min value of  price in newDataListingsFill2 is  0\n",
      "Mean value of  price in newDataListingsFill2 is  169.33299607942328\n",
      "Max value of  minimum_nights in newDataListingsFill2 is  1000\n",
      "Min value of  minimum_nights in newDataListingsFill2 is  1\n",
      "Mean value of  minimum_nights in newDataListingsFill2 is  17.510054382192994\n",
      "Max value of  number_of_reviews in newDataListingsFill2 is  323\n",
      "Min value of  number_of_reviews in newDataListingsFill2 is  0\n",
      "Mean value of  number_of_reviews in newDataListingsFill2 is  12.807385860629822\n",
      "Max value of  reviews_per_month in newDataListingsFill2 is  13.0\n",
      "Min value of  reviews_per_month in newDataListingsFill2 is  0.01\n",
      "Mean value of  reviews_per_month in newDataListingsFill2 is  1.0436686735289245\n",
      "Max value of  calculated_host_listings_count in newDataListingsFill2 is  274\n",
      "Min value of  calculated_host_listings_count in newDataListingsFill2 is  1\n",
      "Mean value of  calculated_host_listings_count in newDataListingsFill2 is  40.60768938914885\n",
      "Max value of  availability_365 in newDataListingsFill2 is  365\n",
      "Min value of  availability_365 in newDataListingsFill2 is  0\n",
      "Mean value of  availability_365 in newDataListingsFill2 is  208.72631845200456\n",
      "Max value of  id in newDataListingsDrop is  37852422\n",
      "Min value of  id in newDataListingsDrop is  49091\n",
      "Mean value of  id in newDataListingsDrop is  21437472.39121989\n",
      "Max value of  host_id in newDataListingsDrop is  282332472\n",
      "Min value of  host_id in newDataListingsDrop is  23666\n",
      "Mean value of  host_id in newDataListingsDrop is  80321178.93900543\n",
      "Max value of  latitude in newDataListingsDrop is  1.45203\n",
      "Min value of  latitude in newDataListingsDrop is  1.24391\n",
      "Mean value of  latitude in newDataListingsDrop is  1.313295291375289\n",
      "Max value of  longitude in newDataListingsDrop is  103.97341999999999\n",
      "Min value of  longitude in newDataListingsDrop is  103.64656\n",
      "Mean value of  longitude in newDataListingsDrop is  103.84981773892754\n",
      "Max value of  price in newDataListingsDrop is  10000\n",
      "Min value of  price in newDataListingsDrop is  0\n",
      "Mean value of  price in newDataListingsDrop is  151.3111888111888\n",
      "Max value of  minimum_nights in newDataListingsDrop is  700\n",
      "Min value of  minimum_nights in newDataListingsDrop is  1\n",
      "Mean value of  minimum_nights in newDataListingsDrop is  12.465229215229215\n",
      "Max value of  number_of_reviews in newDataListingsDrop is  323\n",
      "Min value of  number_of_reviews in newDataListingsDrop is  1\n",
      "Mean value of  number_of_reviews in newDataListingsDrop is  19.67055167055167\n",
      "Max value of  reviews_per_month in newDataListingsDrop is  13.0\n",
      "Min value of  reviews_per_month in newDataListingsDrop is  0.01\n",
      "Mean value of  reviews_per_month in newDataListingsDrop is  1.0438539238539188\n",
      "Max value of  calculated_host_listings_count in newDataListingsDrop is  274\n",
      "Min value of  calculated_host_listings_count in newDataListingsDrop is  1\n",
      "Mean value of  calculated_host_listings_count in newDataListingsDrop is  35.22222222222222\n",
      "Max value of  availability_365 in newDataListingsDrop is  365\n",
      "Min value of  availability_365 in newDataListingsDrop is  0\n",
      "Mean value of  availability_365 in newDataListingsDrop is  201.1447163947164\n"
     ]
    }
   ],
   "source": [
    "for i in newDataListingsFill:\n",
    "  if newDataListingsFill[i].dtypes != object :\n",
    "    print(\"Max value of \", i, \"in newDataListingsFill is \", newDataListingsFill[i].max())\n",
    "    print(\"Min value of \", i, \"in newDataListingsFill is \", newDataListingsFill[i].min())\n",
    "    print(\"Mean value of \", i, \"in newDataListingsFill is \", newDataListingsFill[i].mean())\n",
    "\n",
    "for i in newDataListingsFill2:\n",
    "  if newDataListingsFill2[i].dtypes != object :\n",
    "    print(\"Max value of \", i, \"in newDataListingsFill2 is \", newDataListingsFill2[i].max())\n",
    "    print(\"Min value of \", i, \"in newDataListingsFill2 is \", newDataListingsFill2[i].min())\n",
    "    print(\"Mean value of \", i, \"in newDataListingsFill2 is \", newDataListingsFill2[i].mean())\n",
    "\n",
    "for i in newDataListingsDrop:\n",
    "  if newDataListingsDrop[i].dtypes != object :\n",
    "    print(\"Max value of \", i, \"in newDataListingsDrop is \", newDataListingsDrop[i].max())\n",
    "    print(\"Min value of \", i, \"in newDataListingsDrop is \", newDataListingsDrop[i].min())\n",
    "    print(\"Mean value of \", i, \"in newDataListingsDrop is \", newDataListingsDrop[i].mean())\n"
   ]
  }
 ],
 "metadata": {
  "colab": {
   "collapsed_sections": [],
   "name": "COMP6577.ipynb",
   "provenance": []
  },
  "kernelspec": {
   "display_name": "Python 3",
   "language": "python",
   "name": "python3"
  },
  "language_info": {
   "codemirror_mode": {
    "name": "ipython",
    "version": 3
   },
   "file_extension": ".py",
   "mimetype": "text/x-python",
   "name": "python",
   "nbconvert_exporter": "python",
   "pygments_lexer": "ipython3",
   "version": "3.8.5"
  }
 },
 "nbformat": 4,
 "nbformat_minor": 1
}
