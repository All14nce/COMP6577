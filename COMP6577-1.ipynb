{
  "nbformat": 4,
  "nbformat_minor": 0,
  "metadata": {
    "colab": {
      "name": "COMP6577.ipynb",
      "provenance": [],
      "collapsed_sections": [
        "zhnnQrPKdDSf"
      ]
    },
    "kernelspec": {
      "name": "python3",
      "display_name": "Python 3"
    }
  },
  "cells": [
    {
      "cell_type": "markdown",
      "metadata": {
        "id": "6fI8LmQdWVq-",
        "colab_type": "text"
      },
      "source": [
        "## DATA FRAME - BASIC"
      ]
    },
    {
      "cell_type": "markdown",
      "metadata": {
        "id": "5HdB9rttYMw3",
        "colab_type": "text"
      },
      "source": [
        "Manually Insert Data to Data Frame."
      ]
    },
    {
      "cell_type": "code",
      "metadata": {
        "id": "wxzt8mThW36B",
        "colab_type": "code",
        "outputId": "0f7ca917-a8ad-4667-fbd3-2acb392562ca",
        "colab": {
          "base_uri": "https://localhost:8080/",
          "height": 84
        }
      },
      "source": [
        "import pandas as pd\n",
        "D = {\"Item Name\": [\"Ayam Goreng\", \"Mie Goreng\", \"Donat\"], \"Qty\": [10, 2, 3] , \"Price\": [10000, 5000, 7000]}\n",
        "data = pd.DataFrame(D)\n",
        "print(data)"
      ],
      "execution_count": 52,
      "outputs": [
        {
          "output_type": "stream",
          "text": [
            "     Item Name  Qty  Price\n",
            "0  Ayam Goreng   10  10000\n",
            "1   Mie Goreng    2   5000\n",
            "2        Donat    3   7000\n"
          ],
          "name": "stdout"
        }
      ]
    },
    {
      "cell_type": "markdown",
      "metadata": {
        "id": "45LNmPGraAvr",
        "colab_type": "text"
      },
      "source": [
        "Insert new column to the Data Frame"
      ]
    },
    {
      "cell_type": "code",
      "metadata": {
        "id": "kJwh_2_dY2p1",
        "colab_type": "code",
        "outputId": "9842baa7-ad01-43cc-fd7e-5b8cc5f5f320",
        "colab": {
          "base_uri": "https://localhost:8080/",
          "height": 84
        }
      },
      "source": [
        "totalPrice = pd.Series([])\n",
        "for i in range(len(data)):\n",
        "  totalPrice[i] = data[\"Qty\"][i] * data[\"Price\"][i] \n",
        "\n",
        "data.insert(3, \"TotalPrice\", totalPrice)\n",
        "print(data)"
      ],
      "execution_count": 53,
      "outputs": [
        {
          "output_type": "stream",
          "text": [
            "     Item Name  Qty  Price  TotalPrice\n",
            "0  Ayam Goreng   10  10000      100000\n",
            "1   Mie Goreng    2   5000       10000\n",
            "2        Donat    3   7000       21000\n"
          ],
          "name": "stdout"
        }
      ]
    },
    {
      "cell_type": "markdown",
      "metadata": {
        "id": "2X2FBoTyaC_3",
        "colab_type": "text"
      },
      "source": [
        "Get the statistics of the data from the Data Frame"
      ]
    },
    {
      "cell_type": "code",
      "metadata": {
        "id": "zBYB-u5ialLd",
        "colab_type": "code",
        "outputId": "bff3f7b6-64f7-46ce-eb3b-652e15bdb513",
        "colab": {
          "base_uri": "https://localhost:8080/",
          "height": 790
        }
      },
      "source": [
        "maxValue = data.max()\n",
        "print(\"- Maximum -\\n\")\n",
        "print(\"All data: \\n\", maxValue)\n",
        "print(\"Qty: \", maxValue[\"Qty\"])\n",
        "print(\"Price: \", maxValue[\"Price\"])\n",
        "print(\"Total Price: \", maxValue[\"TotalPrice\"])\n",
        "\n",
        "minValue = data.min()\n",
        "print(\"\\n- Minimum -\\n\")\n",
        "print(\"All data: \\n\", minValue)\n",
        "print(\"Qty: \", minValue[\"Qty\"])\n",
        "print(\"Price: \", minValue[\"Price\"])\n",
        "print(\"Total Price: \", minValue[\"TotalPrice\"])\n",
        "\n",
        "avgValue = data.mean()\n",
        "print(\"\\n- Average -\\n\")\n",
        "print(\"All data: \\n\", avgValue)\n",
        "print(\"Qty: \", avgValue[\"Qty\"])\n",
        "print(\"Price: \", avgValue[\"Price\"])\n",
        "print(\"Total Price: \", avgValue[\"TotalPrice\"])\n",
        "\n",
        "\n",
        "sumValue = data.sum()\n",
        "print(\"\\n- Summary -\\n\")\n",
        "print(\"All data: \\n\", sumValue)\n",
        "print(\"Qty: \", sumValue[\"Qty\"])\n",
        "print(\"Price: \", sumValue[\"Price\"])\n",
        "print(\"Total Price: \", sumValue[\"TotalPrice\"])\n",
        "\n",
        "\n"
      ],
      "execution_count": 54,
      "outputs": [
        {
          "output_type": "stream",
          "text": [
            "- Maximum -\n",
            "\n",
            "All data: \n",
            " Item Name     Mie Goreng\n",
            "Qty                   10\n",
            "Price              10000\n",
            "TotalPrice        100000\n",
            "dtype: object\n",
            "Qty:  10\n",
            "Price:  10000\n",
            "Total Price:  100000\n",
            "\n",
            "- Minimum -\n",
            "\n",
            "All data: \n",
            " Item Name     Ayam Goreng\n",
            "Qty                     2\n",
            "Price                5000\n",
            "TotalPrice          10000\n",
            "dtype: object\n",
            "Qty:  2\n",
            "Price:  5000\n",
            "Total Price:  10000\n",
            "\n",
            "- Average -\n",
            "\n",
            "All data: \n",
            " Qty               5.000000\n",
            "Price          7333.333333\n",
            "TotalPrice    43666.666667\n",
            "dtype: float64\n",
            "Qty:  5.0\n",
            "Price:  7333.333333333333\n",
            "Total Price:  43666.666666666664\n",
            "\n",
            "- Summary -\n",
            "\n",
            "All data: \n",
            " Item Name     Ayam GorengMie GorengDonat\n",
            "Qty                                   15\n",
            "Price                              22000\n",
            "TotalPrice                        131000\n",
            "dtype: object\n",
            "Qty:  15\n",
            "Price:  22000\n",
            "Total Price:  131000\n"
          ],
          "name": "stdout"
        }
      ]
    },
    {
      "cell_type": "markdown",
      "metadata": {
        "id": "zhnnQrPKdDSf",
        "colab_type": "text"
      },
      "source": [
        "# DATA FRAME - LOAD CSV"
      ]
    },
    {
      "cell_type": "markdown",
      "metadata": {
        "id": "WmGkFm4bdKHc",
        "colab_type": "text"
      },
      "source": [
        "Load data from Iris.csv"
      ]
    },
    {
      "cell_type": "code",
      "metadata": {
        "id": "fK1t1o4lemsd",
        "colab_type": "code",
        "outputId": "72462524-1461-44c2-badd-42c66b4b1e21",
        "colab": {
          "base_uri": "https://localhost:8080/",
          "height": 118
        }
      },
      "source": [
        "import pandas as pd\n",
        "\n",
        "irisData = pd.read_csv(\"iris.csv\", names=[\"SepalLength\", \"SepalWidth\", \"PetalLength\",\"PetalWidth\",\"Class\"])\n",
        "print(irisData.head())"
      ],
      "execution_count": 0,
      "outputs": [
        {
          "output_type": "stream",
          "text": [
            "   SepalLength  SepalWidth  PetalLength  PetalWidth        Class\n",
            "0          5.1         3.5          1.4         0.2  Iris-setosa\n",
            "1          4.9         3.0          1.4         0.2  Iris-setosa\n",
            "2          4.7         3.2          1.3         0.2  Iris-setosa\n",
            "3          4.6         3.1          1.5         0.2  Iris-setosa\n",
            "4          5.0         3.6          NaN         0.2  Iris-setosa\n"
          ],
          "name": "stdout"
        }
      ]
    },
    {
      "cell_type": "markdown",
      "metadata": {
        "id": "fldxm3gFi5fU",
        "colab_type": "text"
      },
      "source": [
        "Play around with NaN"
      ]
    },
    {
      "cell_type": "code",
      "metadata": {
        "id": "OK-x65U3jWdI",
        "colab_type": "code",
        "outputId": "1ea2c8ed-d426-49e9-c4b6-7fd08e28a3a1",
        "colab": {
          "base_uri": "https://localhost:8080/",
          "height": 34
        }
      },
      "source": [
        "print(irisData[\"PetalLength\"][4] + irisData[\"PetalWidth\"][4] )"
      ],
      "execution_count": 0,
      "outputs": [
        {
          "output_type": "stream",
          "text": [
            "nan\n"
          ],
          "name": "stdout"
        }
      ]
    },
    {
      "cell_type": "markdown",
      "metadata": {
        "id": "ikZ1FGkbhSRh",
        "colab_type": "text"
      },
      "source": [
        "Check if any data is null or NaN\n",
        "\n"
      ]
    },
    {
      "cell_type": "code",
      "metadata": {
        "id": "M0-l8uLWhX8z",
        "colab_type": "code",
        "outputId": "5b8745ba-e2a1-4be1-df31-32d67abff709",
        "colab": {
          "base_uri": "https://localhost:8080/",
          "height": 269
        }
      },
      "source": [
        "print(irisData.isna())\n",
        "print(irisData.isna().values.any())"
      ],
      "execution_count": 0,
      "outputs": [
        {
          "output_type": "stream",
          "text": [
            "     SepalLength  SepalWidth  PetalLength  PetalWidth  Class\n",
            "0          False       False        False       False  False\n",
            "1          False       False        False       False  False\n",
            "2          False       False        False       False  False\n",
            "3          False       False        False       False  False\n",
            "4          False       False         True       False  False\n",
            "..           ...         ...          ...         ...    ...\n",
            "145        False       False        False       False  False\n",
            "146        False       False        False       False  False\n",
            "147        False       False        False        True  False\n",
            "148        False       False        False       False  False\n",
            "149        False       False        False       False  False\n",
            "\n",
            "[150 rows x 5 columns]\n",
            "True\n"
          ],
          "name": "stdout"
        }
      ]
    },
    {
      "cell_type": "markdown",
      "metadata": {
        "id": "2I_nK1BUhZTx",
        "colab_type": "text"
      },
      "source": [
        "Remove all the NaN Values"
      ]
    },
    {
      "cell_type": "code",
      "metadata": {
        "id": "4C_uETlkhf2Y",
        "colab_type": "code",
        "outputId": "d332d58c-82fa-4aa1-b20d-1f39e7d85f76",
        "colab": {
          "base_uri": "https://localhost:8080/",
          "height": 50
        }
      },
      "source": [
        "newIrisDataDrop = irisData.dropna()\n",
        "print(newIrisDataDrop.isna().values.any())\n",
        "print(len(newIrisDataDrop))"
      ],
      "execution_count": 0,
      "outputs": [
        {
          "output_type": "stream",
          "text": [
            "False\n",
            "146\n"
          ],
          "name": "stdout"
        }
      ]
    },
    {
      "cell_type": "markdown",
      "metadata": {
        "id": "4y8SwfXBieXq",
        "colab_type": "text"
      },
      "source": [
        "Replace all the NaN Values with 0"
      ]
    },
    {
      "cell_type": "code",
      "metadata": {
        "id": "wEiY5HwIikZa",
        "colab_type": "code",
        "outputId": "c6d9f884-8ec4-4e0c-cbb3-6e9da5108ee8",
        "colab": {
          "base_uri": "https://localhost:8080/",
          "height": 50
        }
      },
      "source": [
        "newIrisDataFill = irisData.fillna(0)\n",
        "print(newIrisDataFill.isna().values.any())\n",
        "print(len(newIrisDataFill))"
      ],
      "execution_count": 0,
      "outputs": [
        {
          "output_type": "stream",
          "text": [
            "False\n",
            "150\n"
          ],
          "name": "stdout"
        }
      ]
    },
    {
      "cell_type": "markdown",
      "metadata": {
        "id": "b2EpcfjVm-XJ",
        "colab_type": "text"
      },
      "source": [
        "# Week 1 Solution"
      ]
    },
    {
      "cell_type": "markdown",
      "metadata": {
        "id": "1tbO1EJ441Sv",
        "colab_type": "text"
      },
      "source": [
        "Replace and Dropped All values with 0"
      ]
    },
    {
      "cell_type": "code",
      "metadata": {
        "id": "N2LpABLBnRpW",
        "colab_type": "code",
        "outputId": "2bc54645-a284-4aef-8043-3708ffa445e9",
        "colab": {
          "base_uri": "https://localhost:8080/",
          "height": 454
        }
      },
      "source": [
        "import pandas as pd\n",
        "\n",
        "dataListings = pd.read_csv(\"listings.csv\")\n",
        "print(dataListings.head())\n",
        "\n",
        "print(dataListings.isna().values.any())\n",
        "newDataListingsDrop = dataListings.dropna()\n",
        "newDataListingsFill = dataListings.fillna(0)\n",
        "print(\"Original Length:\", len(dataListings))\n",
        "print(\"Dropped Length:\", len(newDataListingsDrop))\n",
        "print(\"Replaced Length:\", len(newDataListingsFill))\n",
        "\n"
      ],
      "execution_count": 48,
      "outputs": [
        {
          "output_type": "stream",
          "text": [
            "      id  ... availability_365\n",
            "0  49091  ...              365\n",
            "1  50646  ...              365\n",
            "2  56334  ...              365\n",
            "3  71609  ...              353\n",
            "4  71896  ...              355\n",
            "\n",
            "[5 rows x 16 columns]\n",
            "True\n",
            "Original Length: 7907\n",
            "Dropped Length: 5148\n",
            "Replaced Length: 7907\n",
            "            id  ... availability_365\n",
            "0        49091  ...              365\n",
            "1        50646  ...              365\n",
            "2        56334  ...              365\n",
            "3        71609  ...              353\n",
            "4        71896  ...              355\n",
            "...        ...  ...              ...\n",
            "7902  38105126  ...               61\n",
            "7903  38108273  ...              365\n",
            "7904  38109336  ...              173\n",
            "7905  38110493  ...               30\n",
            "7906  38112762  ...              365\n",
            "\n",
            "[7907 rows x 16 columns]\n"
          ],
          "name": "stdout"
        }
      ]
    },
    {
      "cell_type": "markdown",
      "metadata": {
        "id": "CC1sJ6W148yZ",
        "colab_type": "text"
      },
      "source": [
        "Replaced by the mean of each column"
      ]
    },
    {
      "cell_type": "code",
      "metadata": {
        "id": "PmiI63Ff5EBn",
        "colab_type": "code",
        "colab": {
          "base_uri": "https://localhost:8080/",
          "height": 521
        },
        "outputId": "1e7916c2-c22e-46fd-f005-e0d7661ee1b0"
      },
      "source": [
        "for i in dataListings:\n",
        "  print(i, dataListings.loc[:,i].isna().values.any())\n",
        "\n",
        "newDataListingsFill2 = dataListings\n",
        "for i in dataListings:\n",
        "  if dataListings.loc[:,i].dtypes == object :\n",
        "    newDataListingsFill2.loc[:,i] = dataListings.loc[:,i].fillna(\"Not Available\")\n",
        "  else :\n",
        "    mean = dataListings.loc[:,i].mean()\n",
        "    newDataListingsFill2.loc[:,i] = dataListings.loc[:,i].fillna(mean)\n",
        "\n",
        "print(newDataListingsFill2)\n",
        "\n"
      ],
      "execution_count": 45,
      "outputs": [
        {
          "output_type": "stream",
          "text": [
            "id False\n",
            "name True\n",
            "host_id False\n",
            "host_name False\n",
            "neighbourhood_group False\n",
            "neighbourhood False\n",
            "latitude False\n",
            "longitude False\n",
            "room_type False\n",
            "price False\n",
            "minimum_nights False\n",
            "number_of_reviews False\n",
            "last_review True\n",
            "reviews_per_month True\n",
            "calculated_host_listings_count False\n",
            "availability_365 False\n",
            "            id  ... availability_365\n",
            "0        49091  ...              365\n",
            "1        50646  ...              365\n",
            "2        56334  ...              365\n",
            "3        71609  ...              353\n",
            "4        71896  ...              355\n",
            "...        ...  ...              ...\n",
            "7902  38105126  ...               61\n",
            "7903  38108273  ...              365\n",
            "7904  38109336  ...              173\n",
            "7905  38110493  ...               30\n",
            "7906  38112762  ...              365\n",
            "\n",
            "[7907 rows x 16 columns]\n"
          ],
          "name": "stdout"
        }
      ]
    },
    {
      "cell_type": "markdown",
      "metadata": {
        "id": "Ymw91mhX9wIx",
        "colab_type": "text"
      },
      "source": [
        "Max, Min, Mean"
      ]
    },
    {
      "cell_type": "code",
      "metadata": {
        "id": "aVe6r_SH7IPQ",
        "colab_type": "code",
        "colab": {
          "base_uri": "https://localhost:8080/",
          "height": 1000
        },
        "outputId": "cdde6f97-3c61-4c34-bf3f-5ea4c6ad7b84"
      },
      "source": [
        "for i in newDataListingsFill:\n",
        "  if newDataListingsFill.loc[:,i].dtypes != object :\n",
        "    print(\"Max value of \", i, \"in newDataListingsFill is \", newDataListingsFill.loc[:,i].max())\n",
        "    print(\"Min value of \", i, \"in newDataListingsFill is \", newDataListingsFill.loc[:,i].min())\n",
        "    print(\"Mean value of \", i, \"in newDataListingsFill is \", newDataListingsFill.loc[:,i].mean())\n",
        "\n",
        "for i in newDataListingsFill2:\n",
        "  if newDataListingsFill2.loc[:,i].dtypes != object :\n",
        "    print(\"Max value of \", i, \"in newDataListingsFill2 is \", newDataListingsFill2.loc[:,i].max())\n",
        "    print(\"Min value of \", i, \"in newDataListingsFill2 is \", newDataListingsFill2.loc[:,i].min())\n",
        "    print(\"Mean value of \", i, \"in newDataListingsFill2 is \", newDataListingsFill2.loc[:,i].mean())\n",
        "\n",
        "for i in newDataListingsDrop:\n",
        "  if newDataListingsDrop.loc[:,i].dtypes != object :\n",
        "    print(\"Max value of \", i, \"in newDataListingsDrop is \", newDataListingsDrop.loc[:,i].max())\n",
        "    print(\"Min value of \", i, \"in newDataListingsDrop is \", newDataListingsDrop.loc[:,i].min())\n",
        "    print(\"Mean value of \", i, \"in newDataListingsDrop is \", newDataListingsDrop.loc[:,i].mean())\n"
      ],
      "execution_count": 61,
      "outputs": [
        {
          "output_type": "stream",
          "text": [
            "Max value of  id in newDataListingsFill is  38112762\n",
            "Min value of  id in newDataListingsFill is  49091\n",
            "Mean value of  id in newDataListingsFill is  23388624.629568737\n",
            "Max value of  host_id in newDataListingsFill is  288567551\n",
            "Min value of  host_id in newDataListingsFill is  23666\n",
            "Mean value of  host_id in newDataListingsFill is  91144807.40533705\n",
            "Max value of  latitude in newDataListingsFill is  1.45459\n",
            "Min value of  latitude in newDataListingsFill is  1.24387\n",
            "Mean value of  latitude in newDataListingsFill is  1.314192464904513\n",
            "Max value of  longitude in newDataListingsFill is  103.97341999999999\n",
            "Min value of  longitude in newDataListingsFill is  103.64656\n",
            "Mean value of  longitude in newDataListingsFill is  103.84878745794845\n",
            "Max value of  price in newDataListingsFill is  10000\n",
            "Min value of  price in newDataListingsFill is  0\n",
            "Mean value of  price in newDataListingsFill is  169.33299607942328\n",
            "Max value of  minimum_nights in newDataListingsFill is  1000\n",
            "Min value of  minimum_nights in newDataListingsFill is  1\n",
            "Mean value of  minimum_nights in newDataListingsFill is  17.510054382192994\n",
            "Max value of  number_of_reviews in newDataListingsFill is  323\n",
            "Min value of  number_of_reviews in newDataListingsFill is  0\n",
            "Mean value of  number_of_reviews in newDataListingsFill is  12.807385860629822\n",
            "Max value of  reviews_per_month in newDataListingsFill is  13.0\n",
            "Min value of  reviews_per_month in newDataListingsFill is  0.0\n",
            "Mean value of  reviews_per_month in newDataListingsFill is  0.6796319716706684\n",
            "Max value of  calculated_host_listings_count in newDataListingsFill is  274\n",
            "Min value of  calculated_host_listings_count in newDataListingsFill is  1\n",
            "Mean value of  calculated_host_listings_count in newDataListingsFill is  40.60768938914885\n",
            "Max value of  availability_365 in newDataListingsFill is  365\n",
            "Min value of  availability_365 in newDataListingsFill is  0\n",
            "Mean value of  availability_365 in newDataListingsFill is  208.72631845200456\n",
            "Max value of  id in newDataListingsFill2 is  38112762\n",
            "Min value of  id in newDataListingsFill2 is  49091\n",
            "Mean value of  id in newDataListingsFill2 is  23388624.629568737\n",
            "Max value of  host_id in newDataListingsFill2 is  288567551\n",
            "Min value of  host_id in newDataListingsFill2 is  23666\n",
            "Mean value of  host_id in newDataListingsFill2 is  91144807.40533705\n",
            "Max value of  latitude in newDataListingsFill2 is  1.45459\n",
            "Min value of  latitude in newDataListingsFill2 is  1.24387\n",
            "Mean value of  latitude in newDataListingsFill2 is  1.314192464904513\n",
            "Max value of  longitude in newDataListingsFill2 is  103.97341999999999\n",
            "Min value of  longitude in newDataListingsFill2 is  103.64656\n",
            "Mean value of  longitude in newDataListingsFill2 is  103.84878745794845\n",
            "Max value of  price in newDataListingsFill2 is  10000\n",
            "Min value of  price in newDataListingsFill2 is  0\n",
            "Mean value of  price in newDataListingsFill2 is  169.33299607942328\n",
            "Max value of  minimum_nights in newDataListingsFill2 is  1000\n",
            "Min value of  minimum_nights in newDataListingsFill2 is  1\n",
            "Mean value of  minimum_nights in newDataListingsFill2 is  17.510054382192994\n",
            "Max value of  number_of_reviews in newDataListingsFill2 is  323\n",
            "Min value of  number_of_reviews in newDataListingsFill2 is  0\n",
            "Mean value of  number_of_reviews in newDataListingsFill2 is  12.807385860629822\n",
            "Max value of  reviews_per_month in newDataListingsFill2 is  13.0\n",
            "Min value of  reviews_per_month in newDataListingsFill2 is  0.01\n",
            "Mean value of  reviews_per_month in newDataListingsFill2 is  1.0436686735289245\n",
            "Max value of  calculated_host_listings_count in newDataListingsFill2 is  274\n",
            "Min value of  calculated_host_listings_count in newDataListingsFill2 is  1\n",
            "Mean value of  calculated_host_listings_count in newDataListingsFill2 is  40.60768938914885\n",
            "Max value of  availability_365 in newDataListingsFill2 is  365\n",
            "Min value of  availability_365 in newDataListingsFill2 is  0\n",
            "Mean value of  availability_365 in newDataListingsFill2 is  208.72631845200456\n",
            "Max value of  id in newDataListingsDrop is  37852422\n",
            "Min value of  id in newDataListingsDrop is  49091\n",
            "Mean value of  id in newDataListingsDrop is  21437472.39121989\n",
            "Max value of  host_id in newDataListingsDrop is  282332472\n",
            "Min value of  host_id in newDataListingsDrop is  23666\n",
            "Mean value of  host_id in newDataListingsDrop is  80321178.93900543\n",
            "Max value of  latitude in newDataListingsDrop is  1.45203\n",
            "Min value of  latitude in newDataListingsDrop is  1.24391\n",
            "Mean value of  latitude in newDataListingsDrop is  1.313295291375289\n",
            "Max value of  longitude in newDataListingsDrop is  103.97341999999999\n",
            "Min value of  longitude in newDataListingsDrop is  103.64656\n",
            "Mean value of  longitude in newDataListingsDrop is  103.84981773892754\n",
            "Max value of  price in newDataListingsDrop is  10000\n",
            "Min value of  price in newDataListingsDrop is  0\n",
            "Mean value of  price in newDataListingsDrop is  151.3111888111888\n",
            "Max value of  minimum_nights in newDataListingsDrop is  700\n",
            "Min value of  minimum_nights in newDataListingsDrop is  1\n",
            "Mean value of  minimum_nights in newDataListingsDrop is  12.465229215229215\n",
            "Max value of  number_of_reviews in newDataListingsDrop is  323\n",
            "Min value of  number_of_reviews in newDataListingsDrop is  1\n",
            "Mean value of  number_of_reviews in newDataListingsDrop is  19.67055167055167\n",
            "Max value of  reviews_per_month in newDataListingsDrop is  13.0\n",
            "Min value of  reviews_per_month in newDataListingsDrop is  0.01\n",
            "Mean value of  reviews_per_month in newDataListingsDrop is  1.0438539238539188\n",
            "Max value of  calculated_host_listings_count in newDataListingsDrop is  274\n",
            "Min value of  calculated_host_listings_count in newDataListingsDrop is  1\n",
            "Mean value of  calculated_host_listings_count in newDataListingsDrop is  35.22222222222222\n",
            "Max value of  availability_365 in newDataListingsDrop is  365\n",
            "Min value of  availability_365 in newDataListingsDrop is  0\n",
            "Mean value of  availability_365 in newDataListingsDrop is  201.1447163947164\n"
          ],
          "name": "stdout"
        }
      ]
    }
  ]
}