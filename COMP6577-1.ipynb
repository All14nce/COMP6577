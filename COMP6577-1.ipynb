{
  "nbformat": 4,
  "nbformat_minor": 0,
  "metadata": {
    "colab": {
      "name": "COMP6577.ipynb",
      "provenance": [],
      "collapsed_sections": [
        "6fI8LmQdWVq-",
        "zhnnQrPKdDSf"
      ]
    },
    "kernelspec": {
      "name": "python3",
      "display_name": "Python 3"
    }
  },
  "cells": [
    {
      "cell_type": "markdown",
      "metadata": {
        "id": "6fI8LmQdWVq-",
        "colab_type": "text"
      },
      "source": [
        "## DATA FRAME - BASIC"
      ]
    },
    {
      "cell_type": "markdown",
      "metadata": {
        "id": "5HdB9rttYMw3",
        "colab_type": "text"
      },
      "source": [
        "Manually Insert Data to Data Frame."
      ]
    },
    {
      "cell_type": "code",
      "metadata": {
        "id": "wxzt8mThW36B",
        "colab_type": "code",
        "colab": {
          "base_uri": "https://localhost:8080/",
          "height": 84
        },
        "outputId": "cc47ab73-7fe0-4187-8be8-ce15d9b0f59a"
      },
      "source": [
        "import pandas as pd\n",
        "D = {\"Item Name\": [\"Ayam Goreng\", \"Mie Goreng\", \"Donat\"], \"Qty\": [10, 2, 3] , \"Price\": [10000, 5000, 7000]}\n",
        "data = pd.DataFrame(D)\n",
        "print(data)"
      ],
      "execution_count": 2,
      "outputs": [
        {
          "output_type": "stream",
          "text": [
            "     Item Name  Qty  Price\n",
            "0  Ayam Goreng   10  10000\n",
            "1   Mie Goreng    2   5000\n",
            "2        Donat    3   7000\n"
          ],
          "name": "stdout"
        }
      ]
    },
    {
      "cell_type": "markdown",
      "metadata": {
        "id": "45LNmPGraAvr",
        "colab_type": "text"
      },
      "source": [
        "Insert new column to the Data Frame"
      ]
    },
    {
      "cell_type": "code",
      "metadata": {
        "id": "kJwh_2_dY2p1",
        "colab_type": "code",
        "colab": {
          "base_uri": "https://localhost:8080/",
          "height": 84
        },
        "outputId": "e2693d30-b002-4764-8171-c2ef394feab2"
      },
      "source": [
        "totalPrice = pd.Series([])\n",
        "for i in range(len(data)):\n",
        "  totalPrice[i] = data[\"Qty\"][i] * data[\"Price\"][i] \n",
        "\n",
        "data.insert(3, \"TotalPrice\", totalPrice)\n",
        "print(data)"
      ],
      "execution_count": 4,
      "outputs": [
        {
          "output_type": "stream",
          "text": [
            "     Item Name  Qty  Price  TotalPrice\n",
            "0  Ayam Goreng   10  10000      100000\n",
            "1   Mie Goreng    2   5000       10000\n",
            "2        Donat    3   7000       21000\n"
          ],
          "name": "stdout"
        }
      ]
    },
    {
      "cell_type": "markdown",
      "metadata": {
        "id": "2X2FBoTyaC_3",
        "colab_type": "text"
      },
      "source": [
        "Get the statistics of the data from the Data Frame"
      ]
    },
    {
      "cell_type": "code",
      "metadata": {
        "id": "zBYB-u5ialLd",
        "colab_type": "code",
        "colab": {
          "base_uri": "https://localhost:8080/",
          "height": 790
        },
        "outputId": "04a2ed1a-44a4-479a-81cb-3981e84817be"
      },
      "source": [
        "maxValue = data.max()\n",
        "print(\"- Maximum -\\n\")\n",
        "print(\"All data: \\n\", maxValue)\n",
        "print(\"Qty: \", maxValue[\"Qty\"])\n",
        "print(\"Price: \", maxValue[\"Price\"])\n",
        "print(\"Total Price: \", maxValue[\"TotalPrice\"])\n",
        "\n",
        "minValue = data.min()\n",
        "print(\"\\n- Minimum -\\n\")\n",
        "print(\"All data: \\n\", minValue)\n",
        "print(\"Qty: \", minValue[\"Qty\"])\n",
        "print(\"Price: \", minValue[\"Price\"])\n",
        "print(\"Total Price: \", minValue[\"TotalPrice\"])\n",
        "\n",
        "avgValue = data.mean()\n",
        "print(\"\\n- Average -\\n\")\n",
        "print(\"All data: \\n\", avgValue)\n",
        "print(\"Qty: \", avgValue[\"Qty\"])\n",
        "print(\"Price: \", avgValue[\"Price\"])\n",
        "print(\"Total Price: \", avgValue[\"TotalPrice\"])\n",
        "\n",
        "\n",
        "sumValue = data.sum()\n",
        "print(\"\\n- Summary -\\n\")\n",
        "print(\"All data: \\n\", sumValue)\n",
        "print(\"Qty: \", sumValue[\"Qty\"])\n",
        "print(\"Price: \", sumValue[\"Price\"])\n",
        "print(\"Total Price: \", sumValue[\"TotalPrice\"])\n",
        "\n",
        "\n"
      ],
      "execution_count": 16,
      "outputs": [
        {
          "output_type": "stream",
          "text": [
            "- Maximum -\n",
            "\n",
            "All data: \n",
            " Item Name     Mie Goreng\n",
            "Qty                   10\n",
            "Price              10000\n",
            "TotalPrice        100000\n",
            "dtype: object\n",
            "Qty:  10\n",
            "Price:  10000\n",
            "Total Price:  100000\n",
            "\n",
            "- Minimum -\n",
            "\n",
            "All data: \n",
            " Item Name     Ayam Goreng\n",
            "Qty                     2\n",
            "Price                5000\n",
            "TotalPrice          10000\n",
            "dtype: object\n",
            "Qty:  2\n",
            "Price:  5000\n",
            "Total Price:  10000\n",
            "\n",
            "- Average -\n",
            "\n",
            "All data: \n",
            " Qty               5.000000\n",
            "Price          7333.333333\n",
            "TotalPrice    43666.666667\n",
            "dtype: float64\n",
            "Qty:  5.0\n",
            "Price:  7333.333333333333\n",
            "Total Price:  43666.666666666664\n",
            "\n",
            "- Summary -\n",
            "\n",
            "All data: \n",
            " Item Name     Ayam GorengMie GorengDonat\n",
            "Qty                                   15\n",
            "Price                              22000\n",
            "TotalPrice                        131000\n",
            "dtype: object\n",
            "Qty:  15\n",
            "Price:  22000\n",
            "Total Price:  131000\n"
          ],
          "name": "stdout"
        }
      ]
    },
    {
      "cell_type": "markdown",
      "metadata": {
        "id": "zhnnQrPKdDSf",
        "colab_type": "text"
      },
      "source": [
        "# DATA FRAME - LOAD CSV"
      ]
    },
    {
      "cell_type": "markdown",
      "metadata": {
        "id": "WmGkFm4bdKHc",
        "colab_type": "text"
      },
      "source": [
        "Load data from Iris.csv"
      ]
    },
    {
      "cell_type": "code",
      "metadata": {
        "id": "fK1t1o4lemsd",
        "colab_type": "code",
        "colab": {
          "base_uri": "https://localhost:8080/",
          "height": 118
        },
        "outputId": "72462524-1461-44c2-badd-42c66b4b1e21"
      },
      "source": [
        "import pandas as pd\n",
        "\n",
        "irisData = pd.read_csv(\"iris.csv\", names=[\"SepalLength\", \"SepalWidth\", \"PetalLength\",\"PetalWidth\",\"Class\"])\n",
        "print(irisData.head())"
      ],
      "execution_count": 68,
      "outputs": [
        {
          "output_type": "stream",
          "text": [
            "   SepalLength  SepalWidth  PetalLength  PetalWidth        Class\n",
            "0          5.1         3.5          1.4         0.2  Iris-setosa\n",
            "1          4.9         3.0          1.4         0.2  Iris-setosa\n",
            "2          4.7         3.2          1.3         0.2  Iris-setosa\n",
            "3          4.6         3.1          1.5         0.2  Iris-setosa\n",
            "4          5.0         3.6          NaN         0.2  Iris-setosa\n"
          ],
          "name": "stdout"
        }
      ]
    },
    {
      "cell_type": "markdown",
      "metadata": {
        "id": "fldxm3gFi5fU",
        "colab_type": "text"
      },
      "source": [
        "Play around with NaN"
      ]
    },
    {
      "cell_type": "code",
      "metadata": {
        "id": "OK-x65U3jWdI",
        "colab_type": "code",
        "colab": {
          "base_uri": "https://localhost:8080/",
          "height": 34
        },
        "outputId": "1ea2c8ed-d426-49e9-c4b6-7fd08e28a3a1"
      },
      "source": [
        "print(irisData[\"PetalLength\"][4] + irisData[\"PetalWidth\"][4] )"
      ],
      "execution_count": 84,
      "outputs": [
        {
          "output_type": "stream",
          "text": [
            "nan\n"
          ],
          "name": "stdout"
        }
      ]
    },
    {
      "cell_type": "markdown",
      "metadata": {
        "id": "ikZ1FGkbhSRh",
        "colab_type": "text"
      },
      "source": [
        "Check if any data is null or NaN\n",
        "\n"
      ]
    },
    {
      "cell_type": "code",
      "metadata": {
        "id": "M0-l8uLWhX8z",
        "colab_type": "code",
        "colab": {
          "base_uri": "https://localhost:8080/",
          "height": 269
        },
        "outputId": "5b8745ba-e2a1-4be1-df31-32d67abff709"
      },
      "source": [
        "print(irisData.isna())\n",
        "print(irisData.isna().values.any())"
      ],
      "execution_count": 80,
      "outputs": [
        {
          "output_type": "stream",
          "text": [
            "     SepalLength  SepalWidth  PetalLength  PetalWidth  Class\n",
            "0          False       False        False       False  False\n",
            "1          False       False        False       False  False\n",
            "2          False       False        False       False  False\n",
            "3          False       False        False       False  False\n",
            "4          False       False         True       False  False\n",
            "..           ...         ...          ...         ...    ...\n",
            "145        False       False        False       False  False\n",
            "146        False       False        False       False  False\n",
            "147        False       False        False        True  False\n",
            "148        False       False        False       False  False\n",
            "149        False       False        False       False  False\n",
            "\n",
            "[150 rows x 5 columns]\n",
            "True\n"
          ],
          "name": "stdout"
        }
      ]
    },
    {
      "cell_type": "markdown",
      "metadata": {
        "id": "2I_nK1BUhZTx",
        "colab_type": "text"
      },
      "source": [
        "Remove all the NaN Values"
      ]
    },
    {
      "cell_type": "code",
      "metadata": {
        "id": "4C_uETlkhf2Y",
        "colab_type": "code",
        "colab": {
          "base_uri": "https://localhost:8080/",
          "height": 50
        },
        "outputId": "d332d58c-82fa-4aa1-b20d-1f39e7d85f76"
      },
      "source": [
        "newIrisDataDrop = irisData.dropna()\n",
        "print(newIrisDataDrop.isna().values.any())\n",
        "print(len(newIrisDataDrop))"
      ],
      "execution_count": 81,
      "outputs": [
        {
          "output_type": "stream",
          "text": [
            "False\n",
            "146\n"
          ],
          "name": "stdout"
        }
      ]
    },
    {
      "cell_type": "markdown",
      "metadata": {
        "id": "4y8SwfXBieXq",
        "colab_type": "text"
      },
      "source": [
        "Replace all the NaN Values with 0"
      ]
    },
    {
      "cell_type": "code",
      "metadata": {
        "id": "wEiY5HwIikZa",
        "colab_type": "code",
        "colab": {
          "base_uri": "https://localhost:8080/",
          "height": 50
        },
        "outputId": "c6d9f884-8ec4-4e0c-cbb3-6e9da5108ee8"
      },
      "source": [
        "newIrisDataFill = irisData.fillna(0)\n",
        "print(newIrisDataFill.isna().values.any())\n",
        "print(len(newIrisDataFill))"
      ],
      "execution_count": 82,
      "outputs": [
        {
          "output_type": "stream",
          "text": [
            "False\n",
            "150\n"
          ],
          "name": "stdout"
        }
      ]
    },
    {
      "cell_type": "markdown",
      "metadata": {
        "id": "b2EpcfjVm-XJ",
        "colab_type": "text"
      },
      "source": [
        "# Week 1 Solution"
      ]
    },
    {
      "cell_type": "code",
      "metadata": {
        "id": "N2LpABLBnRpW",
        "colab_type": "code",
        "colab": {
          "base_uri": "https://localhost:8080/",
          "height": 218
        },
        "outputId": "0d16bacb-f800-4027-8427-64ce1f882f36"
      },
      "source": [
        "import pandas as pd\n",
        "\n",
        "dataListings = pd.read_csv(\"listings.csv\")\n",
        "print(dataListings.head())\n",
        "\n",
        "print(dataListings.isna().values.any())\n",
        "newDataListingsDrop = dataListings.dropna()\n",
        "newDataListingsFill = dataListings.fillna(0)\n",
        "print(\"Original Length:\", len(dataListings))\n",
        "print(\"Dropped Length:\", len(newDataListingsDrop))\n",
        "print(\"Replaced Length:\", len(newDataListingsFill))\n"
      ],
      "execution_count": 90,
      "outputs": [
        {
          "output_type": "stream",
          "text": [
            "      id  ... availability_365\n",
            "0  49091  ...              365\n",
            "1  50646  ...              365\n",
            "2  56334  ...              365\n",
            "3  71609  ...              353\n",
            "4  71896  ...              355\n",
            "\n",
            "[5 rows x 16 columns]\n",
            "True\n",
            "Original Length: 7907\n",
            "Dropped Length: 5148\n",
            "Replaced Length: 7907\n"
          ],
          "name": "stdout"
        }
      ]
    }
  ]
}